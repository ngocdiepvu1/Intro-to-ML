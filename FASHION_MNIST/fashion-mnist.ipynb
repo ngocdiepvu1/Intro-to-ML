{
  "nbformat": 4,
  "nbformat_minor": 0,
  "metadata": {
    "colab": {
      "provenance": []
    },
    "kernelspec": {
      "name": "python3",
      "display_name": "Python 3"
    },
    "language_info": {
      "name": "python"
    }
  },
  "cells": [
    {
      "cell_type": "markdown",
      "source": [
        "Task 0: Classification of Fashion-MNIST images\n"
      ],
      "metadata": {
        "id": "FaxcZnDQl63y"
      }
    },
    {
      "cell_type": "markdown",
      "source": [
        "# Load Data"
      ],
      "metadata": {
        "id": "TRUl0ADRmuId"
      }
    },
    {
      "cell_type": "code",
      "source": [
        "import tensorflow as tf\n",
        "import numpy as np\n",
        "import pandas as pd\n",
        "import matplotlib.pyplot as plt\n",
        "import torch\n",
        "import torch.nn as nn\n",
        "import torch.nn.functional as nnF\n",
        "from torch.utils.data import DataLoader as torch_dataloader\n",
        "from torch.utils.data import Dataset as torch_dataset\n",
        "import torch.optim as optim\n",
        "import seaborn as sns"
      ],
      "metadata": {
        "id": "bOWuWptRm0gS"
      },
      "execution_count": null,
      "outputs": []
    },
    {
      "cell_type": "code",
      "source": [
        "fashion_mnist = tf.keras.datasets.fashion_mnist\n",
        "(x_train, y_train), (x_test, y_test) = fashion_mnist.load_data()\n",
        "from sklearn.model_selection import train_test_split\n",
        "x_train, x_val, y_train, y_val = train_test_split(x_train, y_train, test_size=0.1, random_state=0)"
      ],
      "metadata": {
        "id": "W0PXttfzmz1l"
      },
      "execution_count": null,
      "outputs": []
    },
    {
      "cell_type": "code",
      "source": [
        "from sklearn.model_selection import train_test_split\n",
        "x_train, x_val, y_train, y_val = train_test_split(x_train, y_train, test_size=0.1, random_state=0)\n",
        "print(\"train:\", x_train.shape, y_train.shape)\n",
        "print(\"val:\", x_val.shape, y_val.shape)\n",
        "print(\"test:\", x_test.shape, y_test.shape)\n",
        "x_train_copy = x_train.copy()\n",
        "x_val_copy = x_val.copy()\n",
        "x_test_copy = x_test.copy()"
      ],
      "metadata": {
        "colab": {
          "base_uri": "https://localhost:8080/"
        },
        "id": "k2pv3RIjpI1C",
        "outputId": "ccfcc46f-a875-4ba5-8f2a-522cf370b247"
      },
      "execution_count": null,
      "outputs": [
        {
          "output_type": "stream",
          "name": "stdout",
          "text": [
            "train: (48600, 28, 28) (48600,)\n",
            "val: (5400, 28, 28) (5400,)\n",
            "test: (10000, 28, 28) (10000,)\n"
          ]
        }
      ]
    },
    {
      "cell_type": "code",
      "source": [
        "dim = 28 * 28\n",
        "x_train = x_train.reshape(x_train.shape[0], dim)\n",
        "x_val = x_val.reshape(x_val.shape[0],dim)\n",
        "x_test = x_test.reshape(x_test.shape[0],dim)\n",
        "print(\"train:\", x_train.shape, y_train.shape)\n",
        "print(\"val:\", x_val.shape, y_val.shape)\n",
        "print(\"test:\", x_test.shape, y_test.shape)\n",
        "print(x_train_copy.shape)"
      ],
      "metadata": {
        "colab": {
          "base_uri": "https://localhost:8080/"
        },
        "id": "gAYDGplxr9Ok",
        "outputId": "75f9588f-b2af-4e67-b859-fca818b3bef1"
      },
      "execution_count": null,
      "outputs": [
        {
          "output_type": "stream",
          "name": "stdout",
          "text": [
            "train: (48600, 784) (48600,)\n",
            "val: (5400, 784) (5400,)\n",
            "test: (10000, 784) (10000,)\n",
            "(48600, 28, 28)\n"
          ]
        }
      ]
    },
    {
      "cell_type": "code",
      "source": [
        "def display_hist(data, type):\n",
        "  plt.figure()\n",
        "  fig, ax = plt.subplots()\n",
        "  ax.bar(range(10), data, width=1, align='center', edgecolor='black')\n",
        "  ax.set(xticks=range(10), xlim=[-1, 10])\n",
        "  plt.ylabel(\"number of images\")\n",
        "  plt.xlabel(\"digit 0-9\")\n",
        "  plt.title(type + \"ing category frequency\")\n",
        "  plt.show()\n",
        "\n",
        "\n",
        "train_frequency = []\n",
        "for i in range(10):\n",
        "  train_frequency.append(len(x_train[y_train==i]))\n",
        "\n",
        "display_hist(train_frequency, \"train\")\n",
        "\n",
        "test_frequency = []\n",
        "for i in range(10):\n",
        "  test_frequency.append(len(x_test[y_test==i]))\n",
        "\n",
        "display_hist(test_frequency, \"test\")"
      ],
      "metadata": {
        "colab": {
          "base_uri": "https://localhost:8080/",
          "height": 963
        },
        "id": "-oSwK6flqQrc",
        "outputId": "94eebb5e-95d4-44ab-edee-903a9a843c85"
      },
      "execution_count": null,
      "outputs": [
        {
          "output_type": "display_data",
          "data": {
            "text/plain": [
              "<Figure size 640x480 with 0 Axes>"
            ]
          },
          "metadata": {}
        },
        {
          "output_type": "display_data",
          "data": {
            "text/plain": [
              "<Figure size 640x480 with 1 Axes>"
            ],
            "image/png": "[encoded data removed]"
          },
          "metadata": {}
        },
        {
          "output_type": "display_data",
          "data": {
            "text/plain": [
              "<Figure size 640x480 with 0 Axes>"
            ]
          },
          "metadata": {}
        },
        {
          "output_type": "display_data",
          "data": {
            "text/plain": [
              "<Figure size 640x480 with 1 Axes>"
            ],
            "image/png": "[encoded data removed]"
          },
          "metadata": {}
        }
      ]
    },
    {
      "cell_type": "markdown",
      "source": [
        "No class imbalance -> No need to use weighted accuracy"
      ],
      "metadata": {
        "id": "dkNBxXgnqrwy"
      }
    },
    {
      "cell_type": "markdown",
      "source": [
        "# Logistic Regression"
      ],
      "metadata": {
        "id": "8xK--CBeme6o"
      }
    },
    {
      "cell_type": "code",
      "source": [
        "from sklearn.linear_model import LogisticRegression\n",
        "lr = LogisticRegression(random_state=0)\n",
        "lr.fit(x_train, y_train)\n",
        "\n",
        "print(\"Validation accuracy:\", lr.score(x_val, y_val))\n",
        "print(\"Testing accuracy:\", lr.score(x_test, y_test))"
      ],
      "metadata": {
        "colab": {
          "base_uri": "https://localhost:8080/"
        },
        "id": "gRl9pVxcmp_7",
        "outputId": "461b96a7-a08a-4712-87dd-534b23b12067"
      },
      "execution_count": null,
      "outputs": [
        {
          "output_type": "stream",
          "name": "stdout",
          "text": [
            "Validation accuracy: 0.8568518518518519\n",
            "Testing accuracy: 0.8406\n"
          ]
        },
        {
          "output_type": "stream",
          "name": "stderr",
          "text": [
            "/usr/local/lib/python3.10/dist-packages/sklearn/linear_model/_logistic.py:458: ConvergenceWarning: lbfgs failed to converge (status=1):\n",
            "STOP: TOTAL NO. of ITERATIONS REACHED LIMIT.\n",
            "\n",
            "Increase the number of iterations (max_iter) or scale the data as shown in:\n",
            "    https://scikit-learn.org/stable/modules/preprocessing.html\n",
            "Please also refer to the documentation for alternative solver options:\n",
            "    https://scikit-learn.org/stable/modules/linear_model.html#logistic-regression\n",
            "  n_iter_i = _check_optimize_result(\n"
          ]
        }
      ]
    },
    {
      "cell_type": "markdown",
      "source": [
        "# Random Forest"
      ],
      "metadata": {
        "id": "1jB9_h5CmijD"
      }
    },
    {
      "cell_type": "code",
      "source": [
        "from sklearn.ensemble import RandomForestClassifier\n",
        "from sklearn.metrics import accuracy_score\n",
        "forest = RandomForestClassifier(n_estimators=50, max_depth=20, random_state=0)\n",
        "forest.fit(x_train, y_train)\n",
        "\n",
        "y_val_pred = forest.predict(x_val)\n",
        "y_test_pred = forest.predict(x_test)\n",
        "\n",
        "print(\"Validation accuracy:\", accuracy_score(y_val, y_val_pred))\n",
        "print(\"Testing accuracy:\", accuracy_score(y_test, y_test_pred))"
      ],
      "metadata": {
        "colab": {
          "base_uri": "https://localhost:8080/"
        },
        "id": "4HVAo9WdmqV_",
        "outputId": "2756eeca-cf25-4521-87be-c71c0db54199"
      },
      "execution_count": null,
      "outputs": [
        {
          "output_type": "stream",
          "name": "stdout",
          "text": [
            "Validation accuracy: 0.8796296296296297\n",
            "Testing accuracy: 0.8707\n"
          ]
        }
      ]
    },
    {
      "cell_type": "markdown",
      "source": [
        "## Hyperparameter Optimization: max_depth"
      ],
      "metadata": {
        "id": "4z6IDmMVvZdG"
      }
    },
    {
      "cell_type": "code",
      "source": [
        "max_depth_list = np.arange(1,21)\n",
        "max_depth_list"
      ],
      "metadata": {
        "colab": {
          "base_uri": "https://localhost:8080/"
        },
        "id": "EUzLuXftvX2m",
        "outputId": "97fd5494-df82-4407-ee67-e55e4aadf3f1"
      },
      "execution_count": null,
      "outputs": [
        {
          "output_type": "execute_result",
          "data": {
            "text/plain": [
              "array([ 1,  2,  3,  4,  5,  6,  7,  8,  9, 10, 11, 12, 13, 14, 15, 16, 17,\n",
              "       18, 19, 20])"
            ]
          },
          "metadata": {},
          "execution_count": 9
        }
      ]
    },
    {
      "cell_type": "code",
      "source": [
        "acc_train_list = []\n",
        "acc_val_list = []\n",
        "\n",
        "for max_depth in max_depth_list:\n",
        "    forest = RandomForestClassifier(n_estimators=50, max_depth=max_depth, random_state=0)\n",
        "    forest.fit(x_train, y_train)\n",
        "    \n",
        "    y_train_pred = forest.predict(x_train)\n",
        "    acc_train_list.append(accuracy_score(y_train, y_train_pred))\n",
        "    \n",
        "    y_val_pred = forest.predict(x_val)\n",
        "    acc_val_list.append(accuracy_score(y_val, y_val_pred))\n",
        "    \n",
        "print(acc_train_list)\n",
        "print(acc_val_list)"
      ],
      "metadata": {
        "colab": {
          "base_uri": "https://localhost:8080/"
        },
        "id": "zB6fZlf_vjph",
        "outputId": "a563cc8b-00af-482a-f33a-229b91290995"
      },
      "execution_count": null,
      "outputs": [
        {
          "output_type": "stream",
          "name": "stdout",
          "text": [
            "[0.3420164609053498, 0.574917695473251, 0.6939300411522634, 0.7454526748971193, 0.7687242798353909, 0.8001851851851852, 0.8223456790123457, 0.8410905349794239, 0.8636008230452675, 0.8844444444444445, 0.9031687242798354, 0.9205349794238683, 0.9389711934156378, 0.9544444444444444, 0.9667695473251029, 0.9766255144032921, 0.9826131687242798, 0.9881893004115226, 0.9914609053497943, 0.9939300411522634]\n",
            "[0.3453703703703704, 0.5711111111111111, 0.6892592592592592, 0.7518518518518519, 0.7707407407407407, 0.8055555555555556, 0.817962962962963, 0.8366666666666667, 0.8474074074074074, 0.8561111111111112, 0.865, 0.8716666666666667, 0.8709259259259259, 0.8775925925925926, 0.8755555555555555, 0.8809259259259259, 0.8824074074074074, 0.8816666666666667, 0.8807407407407407, 0.8796296296296297]\n"
          ]
        }
      ]
    },
    {
      "cell_type": "code",
      "source": [
        "#plot max_depth vs acc_train using max_depth_list and acc_train_list\n",
        "#plot max_depth vs acc_val using max_depth_list and acc_val_list\n",
        "fig, ax = plt.subplots(1,2, figsize=(10,6))\n",
        "ax[0].plot(max_depth_list, acc_train_list, 'b')\n",
        "ax[0].set_xlabel('max_depth')\n",
        "ax[0].set_ylabel('training accuracy')\n",
        "ax[0].set_title('max_depth v.s. training accuracy')\n",
        "ax[0].grid(True)\n",
        "ax[1].plot(max_depth_list, acc_val_list, 'r')\n",
        "ax[1].set_xlabel('max_depth')\n",
        "ax[1].set_ylabel('validation accuracy')\n",
        "ax[1].set_title('max_depth v.s. validation accuracy')\n",
        "ax[1].grid(True)"
      ],
      "metadata": {
        "colab": {
          "base_uri": "https://localhost:8080/",
          "height": 502
        },
        "id": "SqfauAcUv8Qv",
        "outputId": "45b06bdf-d405-4f07-ca97-d1ff8c2a5488"
      },
      "execution_count": null,
      "outputs": [
        {
          "output_type": "display_data",
          "data": {
            "text/plain": [
              "<Figure size 1000x600 with 2 Axes>"
            ],
            "image/png": "[encoded data removed]"
          },
          "metadata": {}
        }
      ]
    },
    {
      "cell_type": "code",
      "source": [
        "max_depth_best = max_depth_list[np.argmax(np.array(acc_train_list))]\n",
        "max_depth_best"
      ],
      "metadata": {
        "colab": {
          "base_uri": "https://localhost:8080/"
        },
        "id": "HjXI2EWOzHc7",
        "outputId": "1bac56df-b6b9-41f8-d65a-d795c123cf4b"
      },
      "execution_count": null,
      "outputs": [
        {
          "output_type": "execute_result",
          "data": {
            "text/plain": [
              "20"
            ]
          },
          "metadata": {},
          "execution_count": 12
        }
      ]
    },
    {
      "cell_type": "code",
      "source": [
        "best_forest = RandomForestClassifier(n_estimators=50, max_depth=max_depth_best, random_state=0)\n",
        "best_forest.fit(x_train, y_train)\n",
        "\n",
        "y_test_pred = best_forest.predict(x_test)\n",
        "\n",
        "print('Testing accuracy for the best model: ', accuracy_score(y_test, y_test_pred))"
      ],
      "metadata": {
        "colab": {
          "base_uri": "https://localhost:8080/"
        },
        "id": "6WEgnGTezP5V",
        "outputId": "d4206025-1608-416c-fdb1-d1f177b77021"
      },
      "execution_count": null,
      "outputs": [
        {
          "output_type": "stream",
          "name": "stdout",
          "text": [
            "Testing accuracy for the best model:  0.8707\n"
          ]
        }
      ]
    },
    {
      "cell_type": "markdown",
      "source": [
        "# MLP"
      ],
      "metadata": {
        "id": "NKHq6lt_mlSU"
      }
    },
    {
      "cell_type": "code",
      "source": [
        "class MLP(nn.Module):\n",
        "    def __init__(self):\n",
        "        super().__init__()\n",
        "        self.linear1 = nn.Linear(in_features=784, out_features=512)\n",
        "        self.linear2 = nn.Linear(512, 256)\n",
        "        self.avg1 = nn.AvgPool1d(kernel_size=2, stride=2)\n",
        "        \n",
        "        self.norm3 = nn.BatchNorm1d(256)\n",
        "        self.linear3 = nn.Linear(256, 128)\n",
        "        self.avg2 = nn.AvgPool1d(kernel_size=2, stride=2)\n",
        "\n",
        "        self.norm4 = nn.BatchNorm1d(128)\n",
        "        self.linear4 = nn.Linear(128, 32)\n",
        "\n",
        "        self.linear5 = nn.Linear(32, 10)\n",
        "\n",
        "    def forward(self, x):\n",
        "        x = nnF.relu(self.linear1(x))\n",
        "        x1 = nnF.relu(self.linear2(x))\n",
        "        x2 = self.avg1(x)\n",
        "        x = x1 + x2\n",
        "\n",
        "        x1 = self.norm3(x)\n",
        "        x2 = nnF.relu(self.linear3(x1))\n",
        "        x3 = self.avg2(x)\n",
        "        x = x2 + x3\n",
        "        \n",
        "        x = self.norm4(x)\n",
        "        x = nnF.relu(self.linear4(x))\n",
        "\n",
        "        z = self.linear5(x)\n",
        "\n",
        "        return z"
      ],
      "metadata": {
        "id": "iM3D9iWJF1_2"
      },
      "execution_count": null,
      "outputs": []
    },
    {
      "cell_type": "code",
      "source": [
        "def save_checkpoint(filename, model, optimizer, result, epoch):\n",
        "    torch.save({'epoch': epoch,\n",
        "                'model_state_dict': model.state_dict(),\n",
        "                'optimizer_state_dict': optimizer.state_dict(),\n",
        "                'result':result},\n",
        "               filename)\n",
        "    print('saved:', filename)"
      ],
      "metadata": {
        "id": "2NPsZwr_mqx3"
      },
      "execution_count": null,
      "outputs": []
    },
    {
      "cell_type": "code",
      "source": [
        "def cal_accuracy(confusion):\n",
        "    #input: confusion is the confusion matrix\n",
        "    #output: acc is the standard classification accuracy\n",
        "    M=confusion.copy().astype('float32')\n",
        "    acc = M.diagonal().sum()/M.sum()    \n",
        "    sens=np.zeros(M.shape[0])\n",
        "    prec=np.zeros(M.shape[0]) \n",
        "    for n in range(0, M.shape[0]):\n",
        "        TP=M[n,n]\n",
        "        FN=np.sum(M[n,:])-TP\n",
        "        FP=np.sum(M[:,n])-TP\n",
        "        sens[n]=TP/(TP+FN)\n",
        "        prec[n]=TP/(TP+FP)       \n",
        "    return acc, sens, prec"
      ],
      "metadata": {
        "id": "sWKCWsHGEjSV"
      },
      "execution_count": null,
      "outputs": []
    },
    {
      "cell_type": "code",
      "source": [
        "def train(model, device, optimizer, dataloader, epoch):    \n",
        "    model.train() #set model to training mode\n",
        "    loss_train=0\n",
        "    acc_train =0 \n",
        "    sample_count=0\n",
        "    for batch_idx, (X, Y) in enumerate(dataloader):\n",
        "        X, Y = X.to(device), Y.to(device)\n",
        "        optimizer.zero_grad() #clear grad of each parameter\n",
        "        Z = model(X) #forward pass\n",
        "        loss = nnF.cross_entropy(Z, Y)\n",
        "        loss.backward() #backward pass\n",
        "        optimizer.step() #update parameters\n",
        "        loss_train+=loss.item()\n",
        "        #do not need softmax\n",
        "        Yp = Z.data.max(dim=1)[1]  #get the index of the max               \n",
        "        acc_train+= torch.sum(Yp==Y).item()\n",
        "        sample_count+=X.size(0)\n",
        "        if batch_idx % 100 == 0:\n",
        "            print('Train Epoch: {} [{:.0f}%]\\tLoss: {:.6f}'.format(\n",
        "                    epoch, 100. * batch_idx / len(dataloader), loss.item()))\n",
        "    loss_train/=len(dataloader)\n",
        "    acc_train/=sample_count    \n",
        "    return loss_train, acc_train"
      ],
      "metadata": {
        "id": "8b_5w2zjEkxR"
      },
      "execution_count": null,
      "outputs": []
    },
    {
      "cell_type": "code",
      "source": [
        "def test(model, device, dataloader):\n",
        "    model.eval() #set model to evaluation mode\n",
        "    acc_test =0\n",
        "    confusion=np.zeros((10,10))\n",
        "    with torch.no_grad(): #tell Pytorch not to build graph in the with section\n",
        "        for batch_idx, (X, Y) in enumerate(dataloader):\n",
        "            X, Y = X.to(device), Y.to(device)\n",
        "            Z = model(X) #forward pass\n",
        "            #do not need softmax\n",
        "            Yp = Z.data.max(dim=1)[1]  #get the index of the max \n",
        "            acc_test+= torch.sum(Yp==Y).item()\n",
        "            for i in range(0, 10):\n",
        "                for j in range(0, 10):\n",
        "                    confusion[i,j]+=torch.sum((Y==i)&(Yp==j)).item()\n",
        "    acc, sens, prec=cal_accuracy(confusion)\n",
        "    return acc, (confusion, sens, prec)"
      ],
      "metadata": {
        "id": "hqq5mOoyEnlc"
      },
      "execution_count": null,
      "outputs": []
    },
    {
      "cell_type": "code",
      "source": [
        "class MyDataset(torch_dataset):\n",
        "    def __init__(self, X, Y):\n",
        "        self.X=X\n",
        "        self.Y=Y\n",
        "    def __len__(self):\n",
        "        #return the number of data points\n",
        "        return self.X.shape[0]\n",
        "    def __getitem__(self, idx):        \n",
        "        #we can use DatasetName[idx] to get a data point (x,y) with index idx\n",
        "        x=torch.tensor(self.X[idx], dtype=torch.float32)\n",
        "        y=torch.tensor(self.Y[idx], dtype=torch.int64)\n",
        "        #x=x.reshape(1,-1) if network is CNN\n",
        "        return x, y"
      ],
      "metadata": {
        "id": "KDcDVGrPEqUb"
      },
      "execution_count": null,
      "outputs": []
    },
    {
      "cell_type": "code",
      "source": [
        "dataset_train = MyDataset(x_train, y_train)\n",
        "dataset_val = MyDataset(x_val, y_val)\n",
        "dataset_test = MyDataset(x_test, y_test)"
      ],
      "metadata": {
        "id": "P5UchS1aEzwG"
      },
      "execution_count": null,
      "outputs": []
    },
    {
      "cell_type": "code",
      "source": [
        "loader_train = torch_dataloader(dataset_train, batch_size=1000, shuffle=True, num_workers=0)\n",
        "loader_val = torch_dataloader(dataset_val, batch_size=1000, shuffle=False, num_workers=0) \n",
        "loader_test = torch_dataloader(dataset_test, batch_size=1000, shuffle=False, num_workers=0) "
      ],
      "metadata": {
        "id": "Z-J4ZNR-E8Gu"
      },
      "execution_count": null,
      "outputs": []
    },
    {
      "cell_type": "code",
      "source": [
        "device = torch.device(\"cuda:0\" if torch.cuda.is_available() else \"cpu\")\n",
        "model= MLP()\n",
        "model.to(device)\n",
        "x = torch.cat((dataset_train[0][0], dataset_train[1][0]))\n",
        "print(x.shape)\n",
        "x = x.view(2,784).to(device) #change it to x=x.view(1,1,187).to(device) for CNN\n",
        "\n",
        "z = model(x)"
      ],
      "metadata": {
        "colab": {
          "base_uri": "https://localhost:8080/"
        },
        "id": "9jjtQ3maE_we",
        "outputId": "2fade9f8-a6cf-49f0-913e-979570dca770"
      },
      "execution_count": null,
      "outputs": [
        {
          "output_type": "stream",
          "name": "stdout",
          "text": [
            "torch.Size([1568])\n"
          ]
        }
      ]
    },
    {
      "cell_type": "code",
      "source": [
        "y_hat=nnF.softmax(z, dim=1)\n",
        "y_hat"
      ],
      "metadata": {
        "colab": {
          "base_uri": "https://localhost:8080/"
        },
        "id": "FMsCROkGFBoo",
        "outputId": "4792b1e5-2aef-4489-bda7-8404eb6ab344"
      },
      "execution_count": null,
      "outputs": [
        {
          "output_type": "execute_result",
          "data": {
            "text/plain": [
              "tensor([[0.0799, 0.1080, 0.1086, 0.0951, 0.0696, 0.1049, 0.1049, 0.1045, 0.1045,\n",
              "         0.1201],\n",
              "        [0.0587, 0.1278, 0.1373, 0.1036, 0.0756, 0.0723, 0.0921, 0.0772, 0.1521,\n",
              "         0.1032]], grad_fn=<SoftmaxBackward0>)"
            ]
          },
          "metadata": {},
          "execution_count": 15
        }
      ]
    },
    {
      "cell_type": "markdown",
      "source": [
        "## Hyperparameter Optimization: Learning Rate"
      ],
      "metadata": {
        "id": "l8nakwAH0JIn"
      }
    },
    {
      "cell_type": "code",
      "source": [
        "learning_rates = np.arange(0.0, 0.021, 0.001)\n",
        "optimizers = []\n",
        "for lr in learning_rates:\n",
        "  optimizers.append(optim.Adamax(model.parameters(), lr=lr, weight_decay=1e-4))"
      ],
      "metadata": {
        "id": "SuWPoOv3FDJp"
      },
      "execution_count": null,
      "outputs": []
    },
    {
      "cell_type": "code",
      "source": [
        "loss_train_list=[]\n",
        "acc_train_list=[]\n",
        "acc_val_list=[]\n",
        "epoch_save=-1"
      ],
      "metadata": {
        "id": "ltvu2CRgFFNO"
      },
      "execution_count": null,
      "outputs": []
    },
    {
      "cell_type": "code",
      "source": [
        "i = 0\n",
        "epoch = 50\n",
        "for optimizer in optimizers: \n",
        "    learning_rate = round(learning_rates[i], 3)\n",
        "    #-------- training --------------------------------\n",
        "    loss_train, acc_train =train(model, device, optimizer, loader_train, epoch)    \n",
        "    loss_train_list.append(loss_train)\n",
        "    acc_train_list.append(acc_train)\n",
        "    print('learning_rate', learning_rate, 'training loss:', loss_train, 'acc:', acc_train)\n",
        "    #-------- validation --------------------------------\n",
        "    acc_val, other_val = test(model, device, loader_val)\n",
        "    acc_val_list.append(acc_val)\n",
        "    print('learning_rate', learning_rate, 'validation acc:', acc_val)\n",
        "    #--------save model-------------------------\n",
        "    result = (loss_train_list, acc_train_list, \n",
        "              acc_val_list, other_val)\n",
        "    save_checkpoint('ECG_MLP_Pytorch_learning_rate'+str(learning_rate)+'.pt', model, optimizer, result, epoch)\n",
        "    i += 1"
      ],
      "metadata": {
        "id": "sg3S8ed_FGng",
        "colab": {
          "base_uri": "https://localhost:8080/"
        },
        "outputId": "1e8404d9-a0e1-42ee-bc95-3360c8b78e47"
      },
      "execution_count": null,
      "outputs": [
        {
          "output_type": "stream",
          "name": "stdout",
          "text": [
            "Train Epoch: 50 [0%]\tLoss: 2.319803\n",
            "learning_rate 0.0 training loss: 2.3241709300449918 acc: 0.06975308641975309\n"
          ]
        },
        {
          "output_type": "stream",
          "name": "stderr",
          "text": [
            "<ipython-input-8-dfed762f0642>:13: RuntimeWarning: invalid value encountered in float_scalars\n",
            "  prec[n]=TP/(TP+FP)\n"
          ]
        },
        {
          "output_type": "stream",
          "name": "stdout",
          "text": [
            "learning_rate 0.0 validation acc: 0.07074074\n",
            "saved: ECG_MLP_Pytorch_learning_rate0.0.pt\n",
            "Train Epoch: 50 [0%]\tLoss: 2.319850\n",
            "learning_rate 0.001 training loss: 1.009102081765934 acc: 0.7522633744855967\n",
            "learning_rate 0.001 validation acc: 0.83037037\n",
            "saved: ECG_MLP_Pytorch_learning_rate0.001.pt\n",
            "Train Epoch: 50 [0%]\tLoss: 0.679083\n",
            "learning_rate 0.002 training loss: 0.4868080451780436 acc: 0.8388271604938271\n",
            "learning_rate 0.002 validation acc: 0.8659259\n",
            "saved: ECG_MLP_Pytorch_learning_rate0.002.pt\n",
            "Train Epoch: 50 [0%]\tLoss: 0.369817\n",
            "learning_rate 0.003 training loss: 0.4500860048800099 acc: 0.8413991769547325\n",
            "learning_rate 0.003 validation acc: 0.86444443\n",
            "saved: ECG_MLP_Pytorch_learning_rate0.003.pt\n",
            "Train Epoch: 50 [0%]\tLoss: 0.322985\n",
            "learning_rate 0.004 training loss: 0.41395304458481924 acc: 0.8511934156378601\n",
            "learning_rate 0.004 validation acc: 0.8687037\n",
            "saved: ECG_MLP_Pytorch_learning_rate0.004.pt\n",
            "Train Epoch: 50 [0%]\tLoss: 0.331272\n",
            "learning_rate 0.005 training loss: 0.4224944187670338 acc: 0.8494444444444444\n",
            "learning_rate 0.005 validation acc: 0.87296295\n",
            "saved: ECG_MLP_Pytorch_learning_rate0.005.pt\n",
            "Train Epoch: 50 [0%]\tLoss: 0.363300\n",
            "learning_rate 0.006 training loss: 0.41628717524664743 acc: 0.8508024691358025\n",
            "learning_rate 0.006 validation acc: 0.8664815\n",
            "saved: ECG_MLP_Pytorch_learning_rate0.006.pt\n",
            "Train Epoch: 50 [0%]\tLoss: 0.349893\n",
            "learning_rate 0.007 training loss: 0.41191477495796824 acc: 0.8524074074074074\n",
            "learning_rate 0.007 validation acc: 0.8738889\n",
            "saved: ECG_MLP_Pytorch_learning_rate0.007.pt\n",
            "Train Epoch: 50 [0%]\tLoss: 0.305669\n",
            "learning_rate 0.008 training loss: 0.4129493893409262 acc: 0.8524074074074074\n",
            "learning_rate 0.008 validation acc: 0.8735185\n",
            "saved: ECG_MLP_Pytorch_learning_rate0.008.pt\n",
            "Train Epoch: 50 [0%]\tLoss: 0.335833\n",
            "learning_rate 0.009 training loss: 0.396736202799544 acc: 0.8577366255144033\n",
            "learning_rate 0.009 validation acc: 0.86703706\n",
            "saved: ECG_MLP_Pytorch_learning_rate0.009.pt\n",
            "Train Epoch: 50 [0%]\tLoss: 0.306672\n",
            "learning_rate 0.01 training loss: 0.42353571373589183 acc: 0.8505761316872428\n",
            "learning_rate 0.01 validation acc: 0.87259257\n",
            "saved: ECG_MLP_Pytorch_learning_rate0.01.pt\n",
            "Train Epoch: 50 [0%]\tLoss: 0.324568\n",
            "learning_rate 0.011 training loss: 0.40889037263636685 acc: 0.8537242798353909\n",
            "learning_rate 0.011 validation acc: 0.8751852\n",
            "saved: ECG_MLP_Pytorch_learning_rate0.011.pt\n",
            "Train Epoch: 50 [0%]\tLoss: 0.348999\n",
            "learning_rate 0.012 training loss: 0.4065230932770943 acc: 0.8537242798353909\n",
            "learning_rate 0.012 validation acc: 0.87333333\n",
            "saved: ECG_MLP_Pytorch_learning_rate0.012.pt\n",
            "Train Epoch: 50 [0%]\tLoss: 0.346367\n",
            "learning_rate 0.013 training loss: 0.40972218647295117 acc: 0.8552674897119341\n",
            "learning_rate 0.013 validation acc: 0.87\n",
            "saved: ECG_MLP_Pytorch_learning_rate0.013.pt\n",
            "Train Epoch: 50 [0%]\tLoss: 0.315840\n",
            "learning_rate 0.014 training loss: 0.3854872061281788 acc: 0.8625720164609053\n",
            "learning_rate 0.014 validation acc: 0.8787037\n",
            "saved: ECG_MLP_Pytorch_learning_rate0.014.pt\n",
            "Train Epoch: 50 [0%]\tLoss: 0.340384\n",
            "learning_rate 0.015 training loss: 0.37934986060979414 acc: 0.8616666666666667\n",
            "learning_rate 0.015 validation acc: 0.87\n",
            "saved: ECG_MLP_Pytorch_learning_rate0.015.pt\n",
            "Train Epoch: 50 [0%]\tLoss: 0.279767\n",
            "learning_rate 0.016 training loss: 0.38287168133015537 acc: 0.8632716049382716\n",
            "learning_rate 0.016 validation acc: 0.8422222\n",
            "saved: ECG_MLP_Pytorch_learning_rate0.016.pt\n",
            "Train Epoch: 50 [0%]\tLoss: 0.309364\n",
            "learning_rate 0.017 training loss: 0.3953628923211779 acc: 0.8606584362139917\n",
            "learning_rate 0.017 validation acc: 0.85333335\n",
            "saved: ECG_MLP_Pytorch_learning_rate0.017.pt\n",
            "Train Epoch: 50 [0%]\tLoss: 0.325694\n",
            "learning_rate 0.018 training loss: 0.39114448671438257 acc: 0.8576954732510288\n",
            "learning_rate 0.018 validation acc: 0.8735185\n",
            "saved: ECG_MLP_Pytorch_learning_rate0.018.pt\n",
            "Train Epoch: 50 [0%]\tLoss: 0.292171\n",
            "learning_rate 0.019 training loss: 0.42955672680115214 acc: 0.8513168724279835\n",
            "learning_rate 0.019 validation acc: 0.8651852\n",
            "saved: ECG_MLP_Pytorch_learning_rate0.019.pt\n",
            "Train Epoch: 50 [0%]\tLoss: 0.347445\n",
            "learning_rate 0.02 training loss: 0.3948392673414581 acc: 0.8575925925925926\n",
            "learning_rate 0.02 validation acc: 0.86388886\n",
            "saved: ECG_MLP_Pytorch_learning_rate0.02.pt\n"
          ]
        }
      ]
    },
    {
      "cell_type": "code",
      "source": [
        "fig, ax = plt.subplots(1, 2, figsize=(12,6))\n",
        "ax[0].tick_params(axis='x', which='major', labelsize=8)\n",
        "ax[1].tick_params(axis='x', which='major', labelsize=8)\n",
        "ax[0].set_title('loss v.s. learning_rate',fontsize=16)\n",
        "ax[0].plot(learning_rates, loss_train_list, '-b', label='training loss')\n",
        "ax[0].set_xlabel('learning_rate',fontsize=16)\n",
        "ax[0].legend(fontsize=16)\n",
        "ax[0].grid(True)\n",
        "ax[1].set_title('accuracy v.s. learning_rate',fontsize=16)\n",
        "ax[1].plot(learning_rates, acc_train_list, '-b', label='training accuracy')\n",
        "ax[1].plot(learning_rates, acc_val_list, '-g', label='validation accuracy')\n",
        "ax[1].set_xlabel('learning_rate',fontsize=16)\n",
        "ax[1].legend(fontsize=16)\n",
        "ax[1].grid(True)"
      ],
      "metadata": {
        "id": "I6e7EK0URpHa",
        "colab": {
          "base_uri": "https://localhost:8080/",
          "height": 569
        },
        "outputId": "e96f4576-103a-47cb-b44f-ce23d4b270af"
      },
      "execution_count": null,
      "outputs": [
        {
          "output_type": "display_data",
          "data": {
            "text/plain": [
              "<Figure size 1200x600 with 2 Axes>"
            ],
            "image/png": "[encoded data removed]"
          },
          "metadata": {}
        }
      ]
    },
    {
      "cell_type": "code",
      "source": [
        "best_learning_rate=np.argmax(acc_val_list)\n",
        "best_learning_rate = learning_rates[best_learning_rate]\n",
        "print(best_learning_rate)"
      ],
      "metadata": {
        "id": "OKJZlFRWFMMR",
        "colab": {
          "base_uri": "https://localhost:8080/"
        },
        "outputId": "c3686cd0-4efb-4ad4-8575-84ea06a56cb5"
      },
      "execution_count": null,
      "outputs": [
        {
          "output_type": "stream",
          "name": "stdout",
          "text": [
            "0.014\n"
          ]
        }
      ]
    },
    {
      "cell_type": "code",
      "source": [
        "checkpoint=torch.load('ECG_MLP_Pytorch_learning_rate'+str(round(best_learning_rate, 3))+'.pt')\n",
        "model= MLP()\n",
        "model.load_state_dict(checkpoint['model_state_dict'])\n",
        "model.to(device);\n",
        "model.eval();"
      ],
      "metadata": {
        "id": "svTiGMTUFNlJ"
      },
      "execution_count": null,
      "outputs": []
    },
    {
      "cell_type": "code",
      "source": [
        "acc, (confusion, sens, prec) = test(model, device, loader_test)\n",
        "print('Accuracy', acc)\n",
        "print('Sensitivity', sens)\n",
        "print('Precision', prec)\n",
        "print('Confusion \\n', confusion)"
      ],
      "metadata": {
        "id": "GDm-JvW6FPHE",
        "colab": {
          "base_uri": "https://localhost:8080/"
        },
        "outputId": "e05ce025-1f8e-4e1a-f3aa-904c6f93ab53"
      },
      "execution_count": null,
      "outputs": [
        {
          "output_type": "stream",
          "name": "stdout",
          "text": [
            "Accuracy 0.864\n",
            "Sensitivity [0.80199999 0.96700001 0.77200001 0.917      0.77399999 0.93400002\n",
            " 0.616      0.97899997 0.96700001 0.912     ]\n",
            "Precision [0.8328141  0.97676766 0.7689243  0.80579966 0.77091634 0.9638803\n",
            " 0.69447577 0.88277727 0.96410769 0.97749197]\n",
            "Confusion \n",
            " [[802.   5.  10.  49.   1.   3. 121.   0.   9.   0.]\n",
            " [  4. 967.   0.  21.   4.   0.   2.   0.   2.   0.]\n",
            " [ 18.   0. 772.  26. 113.   0.  68.   0.   3.   0.]\n",
            " [ 17.  15.   3. 917.  19.   0.  25.   0.   4.   0.]\n",
            " [  0.   1. 115.  59. 774.   0.  49.   0.   2.   0.]\n",
            " [  0.   0.   0.   0.   0. 934.   0.  51.   2.  13.]\n",
            " [119.   2. 100.  60.  89.   0. 616.   0.  14.   0.]\n",
            " [  0.   0.   0.   0.   0.  13.   0. 979.   0.   8.]\n",
            " [  3.   0.   4.   6.   4.   4.   5.   7. 967.   0.]\n",
            " [  0.   0.   0.   0.   0.  15.   1.  72.   0. 912.]]\n"
          ]
        }
      ]
    },
    {
      "cell_type": "markdown",
      "source": [
        "# 2D CNN"
      ],
      "metadata": {
        "id": "Iuzz781cmnA-"
      }
    },
    {
      "cell_type": "code",
      "source": [
        "x_train = x_train_copy\n",
        "x_val = x_val_copy\n",
        "x_test = x_test_copy\n",
        "print(\"train:\", x_train.shape, y_train.shape)\n",
        "print(\"val:\", x_val.shape, y_val.shape)\n",
        "print(\"test:\", x_test.shape, y_test.shape)"
      ],
      "metadata": {
        "colab": {
          "base_uri": "https://localhost:8080/"
        },
        "id": "oKO1U60Gx6dN",
        "outputId": "1c568d28-01de-4123-b601-3aa088c17157"
      },
      "execution_count": null,
      "outputs": [
        {
          "output_type": "stream",
          "name": "stdout",
          "text": [
            "train: (48600, 28, 28) (48600,)\n",
            "val: (5400, 28, 28) (5400,)\n",
            "test: (10000, 28, 28) (10000,)\n"
          ]
        }
      ]
    },
    {
      "cell_type": "markdown",
      "source": [
        "Resize images from 28x28 to 32x32"
      ],
      "metadata": {
        "id": "SqYiNQZ-mYQk"
      }
    },
    {
      "cell_type": "code",
      "source": [
        "from skimage.transform import resize\n",
        "x_train_resized=np.zeros((x_train.shape[0],32,32), dtype=np.float32)\n",
        "for n in range(0, x_train.shape[0]):\n",
        "    x = x_train[n,:,:]\n",
        "    x = resize(x, [32, 32], mode='edge')\n",
        "    x_train_resized[n,:,:]=x\n",
        "x_val_resized=np.zeros((x_val.shape[0],32,32), dtype=np.float32)\n",
        "for n in range(0, x_val.shape[0]):\n",
        "    x = x_val[n,:,:]\n",
        "    x = resize(x, [32, 32], mode='edge')\n",
        "    x_val_resized[n,:,:]=x\n",
        "x_test_resized=np.zeros((x_test.shape[0],32,32), dtype=np.float32)\n",
        "for n in range(0, x_test.shape[0]):\n",
        "    x = x_test[n,:,:]\n",
        "    x = resize(x, [32, 32], mode='edge')\n",
        "    x_test_resized[n,:,:]=x\n",
        "x_train=x_train_resized\n",
        "x_val=x_val_resized\n",
        "x_test=x_test_resized"
      ],
      "metadata": {
        "id": "cvoM0D8NmBgE"
      },
      "execution_count": null,
      "outputs": []
    },
    {
      "cell_type": "code",
      "source": [
        "print(\"train:\", x_train.shape, y_train.shape)\n",
        "print(\"val:\", x_val.shape, y_val.shape)\n",
        "print(\"test:\", x_test.shape, y_test.shape)"
      ],
      "metadata": {
        "colab": {
          "base_uri": "https://localhost:8080/"
        },
        "id": "jzSFQSPKmBPr",
        "outputId": "6a6b6adf-5eb3-4bdf-eb39-d3ffb0a4f8d5"
      },
      "execution_count": null,
      "outputs": [
        {
          "output_type": "stream",
          "name": "stdout",
          "text": [
            "train: (48600, 32, 32) (48600,)\n",
            "val: (5400, 32, 32) (5400,)\n",
            "test: (10000, 32, 32) (10000,)\n"
          ]
        }
      ]
    },
    {
      "cell_type": "markdown",
      "source": [
        "Reshape every data point"
      ],
      "metadata": {
        "id": "EFehFd2VojFq"
      }
    },
    {
      "cell_type": "code",
      "source": [
        "x_train=x_train.reshape(-1,1,32,32).astype('float32')\n",
        "x_val=x_val.reshape(-1,1,32,32).astype('float32')\n",
        "x_test=x_test.reshape(-1,1,32,32).astype('float32')"
      ],
      "metadata": {
        "id": "Psp5GcrkohDq"
      },
      "execution_count": null,
      "outputs": []
    },
    {
      "cell_type": "code",
      "source": [
        "class CNN(nn.Module):\n",
        "    def __init__(self):\n",
        "        super().__init__()\n",
        "        self.conv1 = nn.Conv2d(in_channels=1, \n",
        "                               out_channels=6, \n",
        "                               kernel_size=(5,5),\n",
        "                               stride=1, padding=0, dilation=1, groups=1, bias=True)\n",
        "        self.pool1 = nn.MaxPool2d(kernel_size=(2, 2), stride=2)\n",
        "        self.conv2 = nn.Conv2d(6, 16, kernel_size=(5, 5))        \n",
        "        self.pool2 = nn.MaxPool2d(kernel_size=(2, 2), stride=2)\n",
        "        self.conv3 = nn.Conv2d(16, 120, kernel_size=(5, 5))        \n",
        "        self.fc1 = nn.Linear(120, 84)\n",
        "        self.fc2 = nn.Linear(84, 10)\n",
        "        \n",
        "    def forward(self, x):\n",
        "        x = self.pool1(nnF.relu(self.conv1(x)))\n",
        "        x = self.pool2(nnF.relu(self.conv2(x)))\n",
        "        x = nnF.relu(self.conv3(x))\n",
        "        x = x.view(x.size(0), -1)\n",
        "        x = nnF.relu(self.fc1(x))\n",
        "        z = self.fc2(x)\n",
        "        ##y=nnF.softmax(z,dim=1)\n",
        "        return z        "
      ],
      "metadata": {
        "id": "i51o9ZlwyEOa"
      },
      "execution_count": null,
      "outputs": []
    },
    {
      "cell_type": "code",
      "source": [
        "def trainCNN(model, optimizer, dataloader, device, epoch):    \n",
        "    model.train()#set model to training mode\n",
        "    loss_train=0\n",
        "    acc_train =0 \n",
        "    for batch_idx, (X, Y) in enumerate(dataloader):\n",
        "        X, Y = X.to(device), Y.to(device)\n",
        "        optimizer.zero_grad()#clear grad of each parameter, set dL/dw=0 \n",
        "        Z = model(X)#forward pass\n",
        "        loss = nnF.cross_entropy(Z, Y)\n",
        "        loss.backward()#backward pass  to compute dL/dw\n",
        "        optimizer.step()#update parameters  w = w - lr*dL/dw\n",
        "        loss_train+=loss.item()\n",
        "        #do not need softmax\n",
        "        Yp = Z.data.max(dim=1)[1]  # get the index of the max               \n",
        "        acc_train+= torch.sum(Yp==Y).item()\n",
        "        if batch_idx % 100 == 0:\n",
        "            print('Train Epoch: {} [{:.0f}%]\\tLoss: {:.6f}'.format(\n",
        "                    epoch, 100. * batch_idx / len(dataloader), loss.item()))\n",
        "    loss_train/=len(dataloader)\n",
        "    acc_train/=len(dataloader.dataset) \n",
        "    return loss_train, acc_train"
      ],
      "metadata": {
        "id": "x029ylOut4Ru"
      },
      "execution_count": null,
      "outputs": []
    },
    {
      "cell_type": "code",
      "source": [
        "class MyDatasetCNN(torch_dataset):\n",
        "    def __init__(self, X, Y):\n",
        "        self.X=X\n",
        "        self.Y=Y\n",
        "    def __len__(self):\n",
        "        #return the number of data points\n",
        "        return self.X.shape[0]\n",
        "    def __getitem__(self, idx):        \n",
        "        #we can use DatasetName[idx] to get a data point (x,y) with index idx\n",
        "        x=torch.tensor(self.X[idx], dtype=torch.float32)\n",
        "        y=torch.tensor(self.Y[idx], dtype=torch.int64)\n",
        "        return x, y"
      ],
      "metadata": {
        "id": "nOUNmE0emEUM"
      },
      "execution_count": null,
      "outputs": []
    },
    {
      "cell_type": "code",
      "source": [
        "dataset_train = MyDatasetCNN(x_train, y_train)\n",
        "dataset_val = MyDatasetCNN(x_val, y_val)\n",
        "dataset_test = MyDatasetCNN(x_test, y_test)"
      ],
      "metadata": {
        "id": "mX2ioKXIx3pO"
      },
      "execution_count": null,
      "outputs": []
    },
    {
      "cell_type": "code",
      "source": [
        "loader_train = torch_dataloader(dataset_train, batch_size=1000, shuffle=True, num_workers=0)\n",
        "loader_val = torch_dataloader(dataset_val, batch_size=1000, shuffle=False, num_workers=0) \n",
        "loader_test = torch_dataloader(dataset_test, batch_size=1000, shuffle=False, num_workers=0) "
      ],
      "metadata": {
        "id": "41hTUrcVx4Ta"
      },
      "execution_count": null,
      "outputs": []
    },
    {
      "cell_type": "code",
      "source": [
        "for epoch in range(0, 1): # change 1 to 100 if we need to train the model for 100 epochs\n",
        "    for batch_idx, (X, Y) in enumerate(loader_train):\n",
        "        # X contain the data samples in a mini-batch\n",
        "        # Y contain the class lables of these samples\n",
        "        print(batch_idx, X.size(), Y.size())"
      ],
      "metadata": {
        "colab": {
          "base_uri": "https://localhost:8080/"
        },
        "id": "UGG9n1DxnJMm",
        "outputId": "d3bd0c00-6ca4-499d-8374-fa5ea6349988"
      },
      "execution_count": null,
      "outputs": [
        {
          "output_type": "stream",
          "name": "stdout",
          "text": [
            "0 torch.Size([1000, 1, 32, 32]) torch.Size([1000])\n",
            "1 torch.Size([1000, 1, 32, 32]) torch.Size([1000])\n",
            "2 torch.Size([1000, 1, 32, 32]) torch.Size([1000])\n",
            "3 torch.Size([1000, 1, 32, 32]) torch.Size([1000])\n",
            "4 torch.Size([1000, 1, 32, 32]) torch.Size([1000])\n",
            "5 torch.Size([1000, 1, 32, 32]) torch.Size([1000])\n",
            "6 torch.Size([1000, 1, 32, 32]) torch.Size([1000])\n",
            "7 torch.Size([1000, 1, 32, 32]) torch.Size([1000])\n",
            "8 torch.Size([1000, 1, 32, 32]) torch.Size([1000])\n",
            "9 torch.Size([1000, 1, 32, 32]) torch.Size([1000])\n",
            "10 torch.Size([1000, 1, 32, 32]) torch.Size([1000])\n",
            "11 torch.Size([1000, 1, 32, 32]) torch.Size([1000])\n",
            "12 torch.Size([1000, 1, 32, 32]) torch.Size([1000])\n",
            "13 torch.Size([1000, 1, 32, 32]) torch.Size([1000])\n",
            "14 torch.Size([1000, 1, 32, 32]) torch.Size([1000])\n",
            "15 torch.Size([1000, 1, 32, 32]) torch.Size([1000])\n",
            "16 torch.Size([1000, 1, 32, 32]) torch.Size([1000])\n",
            "17 torch.Size([1000, 1, 32, 32]) torch.Size([1000])\n",
            "18 torch.Size([1000, 1, 32, 32]) torch.Size([1000])\n",
            "19 torch.Size([1000, 1, 32, 32]) torch.Size([1000])\n",
            "20 torch.Size([1000, 1, 32, 32]) torch.Size([1000])\n",
            "21 torch.Size([1000, 1, 32, 32]) torch.Size([1000])\n",
            "22 torch.Size([1000, 1, 32, 32]) torch.Size([1000])\n",
            "23 torch.Size([1000, 1, 32, 32]) torch.Size([1000])\n",
            "24 torch.Size([1000, 1, 32, 32]) torch.Size([1000])\n",
            "25 torch.Size([1000, 1, 32, 32]) torch.Size([1000])\n",
            "26 torch.Size([1000, 1, 32, 32]) torch.Size([1000])\n",
            "27 torch.Size([1000, 1, 32, 32]) torch.Size([1000])\n",
            "28 torch.Size([1000, 1, 32, 32]) torch.Size([1000])\n",
            "29 torch.Size([1000, 1, 32, 32]) torch.Size([1000])\n",
            "30 torch.Size([1000, 1, 32, 32]) torch.Size([1000])\n",
            "31 torch.Size([1000, 1, 32, 32]) torch.Size([1000])\n",
            "32 torch.Size([1000, 1, 32, 32]) torch.Size([1000])\n",
            "33 torch.Size([1000, 1, 32, 32]) torch.Size([1000])\n",
            "34 torch.Size([1000, 1, 32, 32]) torch.Size([1000])\n",
            "35 torch.Size([1000, 1, 32, 32]) torch.Size([1000])\n",
            "36 torch.Size([1000, 1, 32, 32]) torch.Size([1000])\n",
            "37 torch.Size([1000, 1, 32, 32]) torch.Size([1000])\n",
            "38 torch.Size([1000, 1, 32, 32]) torch.Size([1000])\n",
            "39 torch.Size([1000, 1, 32, 32]) torch.Size([1000])\n",
            "40 torch.Size([1000, 1, 32, 32]) torch.Size([1000])\n",
            "41 torch.Size([1000, 1, 32, 32]) torch.Size([1000])\n",
            "42 torch.Size([1000, 1, 32, 32]) torch.Size([1000])\n",
            "43 torch.Size([1000, 1, 32, 32]) torch.Size([1000])\n",
            "44 torch.Size([1000, 1, 32, 32]) torch.Size([1000])\n",
            "45 torch.Size([1000, 1, 32, 32]) torch.Size([1000])\n",
            "46 torch.Size([1000, 1, 32, 32]) torch.Size([1000])\n",
            "47 torch.Size([1000, 1, 32, 32]) torch.Size([1000])\n",
            "48 torch.Size([600, 1, 32, 32]) torch.Size([600])\n"
          ]
        }
      ]
    },
    {
      "cell_type": "code",
      "source": [
        "device = torch.device(\"cuda:0\" if torch.cuda.is_available() else \"cpu\")\n",
        "model=CNN()\n",
        "model.to(device)\n",
        "x=dataset_train[0][0]\n",
        "x=x.view(1,1,32,32).to(device) #change it to x=x.view(1,1,187).to(device) for CNN\n",
        "z=model(x)"
      ],
      "metadata": {
        "id": "PaKMMMS2mtyr"
      },
      "execution_count": null,
      "outputs": []
    },
    {
      "cell_type": "code",
      "source": [
        "y_hat=nnF.softmax(z, dim=1)\n",
        "y_hat"
      ],
      "metadata": {
        "colab": {
          "base_uri": "https://localhost:8080/"
        },
        "id": "XK9A7ElY3jmx",
        "outputId": "a75e3254-af8e-411d-d1f0-d4b7de92f94f"
      },
      "execution_count": null,
      "outputs": [
        {
          "output_type": "execute_result",
          "data": {
            "text/plain": [
              "tensor([[0.1025, 0.1051, 0.0968, 0.0914, 0.1082, 0.0983, 0.1065, 0.0977, 0.1022,\n",
              "         0.0911]], grad_fn=<SoftmaxBackward0>)"
            ]
          },
          "metadata": {},
          "execution_count": 199
        }
      ]
    },
    {
      "cell_type": "code",
      "source": [
        "optimizer = optim.SGD(model.parameters(), lr=0.001, momentum=0.9)"
      ],
      "metadata": {
        "id": "eRrMTK0m3lim"
      },
      "execution_count": null,
      "outputs": []
    },
    {
      "cell_type": "code",
      "source": [
        "len(loader_train)"
      ],
      "metadata": {
        "colab": {
          "base_uri": "https://localhost:8080/"
        },
        "id": "XaQVr54_oBDP",
        "outputId": "9f995970-ff03-45ec-ec1e-d4d44794a318"
      },
      "execution_count": null,
      "outputs": [
        {
          "output_type": "execute_result",
          "data": {
            "text/plain": [
              "49"
            ]
          },
          "metadata": {},
          "execution_count": 201
        }
      ]
    },
    {
      "cell_type": "code",
      "source": [],
      "metadata": {
        "id": "ISwsuTVcoAvs"
      },
      "execution_count": null,
      "outputs": []
    },
    {
      "cell_type": "markdown",
      "source": [
        "train/val/test over many epochs"
      ],
      "metadata": {
        "id": "HwJ7tZLx3qR2"
      }
    },
    {
      "cell_type": "code",
      "source": [
        "loss_train_list=[]\n",
        "acc_train_list=[]\n",
        "acc_val_list=[]\n",
        "epoch_save=-1"
      ],
      "metadata": {
        "id": "iREcKf1S3ni5"
      },
      "execution_count": null,
      "outputs": []
    },
    {
      "cell_type": "markdown",
      "source": [
        "## Hyperparameter Optimization: Number of Training Epochs"
      ],
      "metadata": {
        "id": "USoznJEB0U7c"
      }
    },
    {
      "cell_type": "code",
      "source": [
        "for epoch in range(epoch_save+1, 100): #change 100 to a larger number if necessary\n",
        "    #-------- training --------------------------------\n",
        "    loss_train, acc_train = trainCNN(model, optimizer, loader_train, device, epoch)    \n",
        "    loss_train_list.append(loss_train)\n",
        "    acc_train_list.append(acc_train)\n",
        "    print('epoch', epoch, 'training loss:', loss_train, 'acc:', acc_train)\n",
        "    #-------- validation --------------------------------\n",
        "    acc_val, other_val = test(model, device, loader_val)\n",
        "    acc_val_list.append(acc_val)\n",
        "    print('epoch', epoch, 'validation acc:', acc_val)\n",
        "    #--------save model-------------------------\n",
        "    result = (loss_train_list, acc_train_list, \n",
        "              acc_val_list, other_val)\n",
        "    save_checkpoint('ECG_MLP_Pytorch_epoch'+str(epoch)+'.pt', model, optimizer, result, epoch)\n",
        "    epoch_save=epoch"
      ],
      "metadata": {
        "colab": {
          "base_uri": "https://localhost:8080/"
        },
        "id": "PLqND7YK3pUL",
        "outputId": "d46a9186-8c41-4a3e-bffd-7cedc454c652"
      },
      "execution_count": null,
      "outputs": [
        {
          "output_type": "stream",
          "name": "stdout",
          "text": [
            "Train Epoch: 49 [0%]\tLoss: 0.665199\n",
            "epoch 49 training loss: 0.6448491337348004 acc: 0.7560288065843621\n",
            "epoch 49 validation acc: 0.765\n",
            "saved: ECG_MLP_Pytorch_epoch49.pt\n",
            "Train Epoch: 50 [0%]\tLoss: 0.599612\n",
            "epoch 50 training loss: 0.6410891912421401 acc: 0.7555555555555555\n",
            "epoch 50 validation acc: 0.7690741\n",
            "saved: ECG_MLP_Pytorch_epoch50.pt\n",
            "Train Epoch: 51 [0%]\tLoss: 0.654570\n",
            "epoch 51 training loss: 0.6353434214786607 acc: 0.7592592592592593\n",
            "epoch 51 validation acc: 0.75555557\n",
            "saved: ECG_MLP_Pytorch_epoch51.pt\n",
            "Train Epoch: 52 [0%]\tLoss: 0.673919\n",
            "epoch 52 training loss: 0.6435874992487381 acc: 0.7538271604938271\n",
            "epoch 52 validation acc: 0.7612963\n",
            "saved: ECG_MLP_Pytorch_epoch52.pt\n",
            "Train Epoch: 53 [0%]\tLoss: 0.671834\n",
            "epoch 53 training loss: 0.6309019497462681 acc: 0.7603703703703704\n",
            "epoch 53 validation acc: 0.7688889\n",
            "saved: ECG_MLP_Pytorch_epoch53.pt\n",
            "Train Epoch: 54 [0%]\tLoss: 0.575340\n",
            "epoch 54 training loss: 0.634940183892542 acc: 0.7581893004115227\n",
            "epoch 54 validation acc: 0.76592594\n",
            "saved: ECG_MLP_Pytorch_epoch54.pt\n",
            "Train Epoch: 55 [0%]\tLoss: 0.647785\n",
            "epoch 55 training loss: 0.6209284505065606 acc: 0.7648353909465021\n",
            "epoch 55 validation acc: 0.772963\n",
            "saved: ECG_MLP_Pytorch_epoch55.pt\n",
            "Train Epoch: 56 [0%]\tLoss: 0.591037\n",
            "epoch 56 training loss: 0.6186495824735991 acc: 0.7645473251028807\n",
            "epoch 56 validation acc: 0.77592593\n",
            "saved: ECG_MLP_Pytorch_epoch56.pt\n",
            "Train Epoch: 57 [0%]\tLoss: 0.641428\n",
            "epoch 57 training loss: 0.6252397444783425 acc: 0.7620987654320988\n",
            "epoch 57 validation acc: 0.76574075\n",
            "saved: ECG_MLP_Pytorch_epoch57.pt\n",
            "Train Epoch: 58 [0%]\tLoss: 0.633664\n",
            "epoch 58 training loss: 0.6096124344942521 acc: 0.7679835390946502\n",
            "epoch 58 validation acc: 0.77944446\n",
            "saved: ECG_MLP_Pytorch_epoch58.pt\n",
            "Train Epoch: 59 [0%]\tLoss: 0.591760\n",
            "epoch 59 training loss: 0.6111546158790588 acc: 0.7674897119341564\n",
            "epoch 59 validation acc: 0.7625926\n",
            "saved: ECG_MLP_Pytorch_epoch59.pt\n",
            "Train Epoch: 60 [0%]\tLoss: 0.605165\n",
            "epoch 60 training loss: 0.6113830889974322 acc: 0.7678189300411523\n",
            "epoch 60 validation acc: 0.77944446\n",
            "saved: ECG_MLP_Pytorch_epoch60.pt\n",
            "Train Epoch: 61 [0%]\tLoss: 0.597763\n",
            "epoch 61 training loss: 0.599941509110587 acc: 0.7706172839506172\n",
            "epoch 61 validation acc: 0.7764815\n",
            "saved: ECG_MLP_Pytorch_epoch61.pt\n",
            "Train Epoch: 62 [0%]\tLoss: 0.612116\n",
            "epoch 62 training loss: 0.5977023973756906 acc: 0.7708230452674897\n",
            "epoch 62 validation acc: 0.7740741\n",
            "saved: ECG_MLP_Pytorch_epoch62.pt\n",
            "Train Epoch: 63 [0%]\tLoss: 0.620749\n",
            "epoch 63 training loss: 0.5964802175152059 acc: 0.7723662551440329\n",
            "epoch 63 validation acc: 0.77981484\n",
            "saved: ECG_MLP_Pytorch_epoch63.pt\n",
            "Train Epoch: 64 [0%]\tLoss: 0.540321\n",
            "epoch 64 training loss: 0.5882602698948919 acc: 0.77619341563786\n",
            "epoch 64 validation acc: 0.7887037\n",
            "saved: ECG_MLP_Pytorch_epoch64.pt\n",
            "Train Epoch: 65 [0%]\tLoss: 0.537517\n",
            "epoch 65 training loss: 0.5892682562069017 acc: 0.7753909465020576\n",
            "epoch 65 validation acc: 0.7701852\n",
            "saved: ECG_MLP_Pytorch_epoch65.pt\n",
            "Train Epoch: 66 [0%]\tLoss: 0.633061\n",
            "epoch 66 training loss: 0.5875269211068446 acc: 0.7763991769547325\n",
            "epoch 66 validation acc: 0.7838889\n",
            "saved: ECG_MLP_Pytorch_epoch66.pt\n",
            "Train Epoch: 67 [0%]\tLoss: 0.574552\n",
            "epoch 67 training loss: 0.5834084505937538 acc: 0.7786008230452675\n",
            "epoch 67 validation acc: 0.7922222\n",
            "saved: ECG_MLP_Pytorch_epoch67.pt\n",
            "Train Epoch: 68 [0%]\tLoss: 0.571129\n",
            "epoch 68 training loss: 0.5758348885847597 acc: 0.7822427983539094\n",
            "epoch 68 validation acc: 0.7818518\n",
            "saved: ECG_MLP_Pytorch_epoch68.pt\n",
            "Train Epoch: 69 [0%]\tLoss: 0.642759\n",
            "epoch 69 training loss: 0.5701019313870644 acc: 0.7836625514403293\n",
            "epoch 69 validation acc: 0.7948148\n",
            "saved: ECG_MLP_Pytorch_epoch69.pt\n",
            "Train Epoch: 70 [0%]\tLoss: 0.559647\n",
            "epoch 70 training loss: 0.5724229034112425 acc: 0.7824691358024691\n",
            "epoch 70 validation acc: 0.7888889\n",
            "saved: ECG_MLP_Pytorch_epoch70.pt\n",
            "Train Epoch: 71 [0%]\tLoss: 0.567475\n",
            "epoch 71 training loss: 0.570660302833635 acc: 0.7829423868312757\n",
            "epoch 71 validation acc: 0.79462963\n",
            "saved: ECG_MLP_Pytorch_epoch71.pt\n",
            "Train Epoch: 72 [0%]\tLoss: 0.602366\n",
            "epoch 72 training loss: 0.5653643340480571 acc: 0.7849382716049382\n",
            "epoch 72 validation acc: 0.7911111\n",
            "saved: ECG_MLP_Pytorch_epoch72.pt\n",
            "Train Epoch: 73 [0%]\tLoss: 0.565003\n",
            "epoch 73 training loss: 0.5622235840680648 acc: 0.7857818930041153\n",
            "epoch 73 validation acc: 0.78925925\n",
            "saved: ECG_MLP_Pytorch_epoch73.pt\n",
            "Train Epoch: 74 [0%]\tLoss: 0.576116\n",
            "epoch 74 training loss: 0.5530098299590909 acc: 0.7911728395061728\n",
            "epoch 74 validation acc: 0.7998148\n",
            "saved: ECG_MLP_Pytorch_epoch74.pt\n",
            "Train Epoch: 75 [0%]\tLoss: 0.585373\n",
            "epoch 75 training loss: 0.5514453880640925 acc: 0.7913168724279835\n",
            "epoch 75 validation acc: 0.7968519\n",
            "saved: ECG_MLP_Pytorch_epoch75.pt\n",
            "Train Epoch: 76 [0%]\tLoss: 0.565790\n",
            "epoch 76 training loss: 0.5526920453626283 acc: 0.7906995884773662\n",
            "epoch 76 validation acc: 0.79833335\n",
            "saved: ECG_MLP_Pytorch_epoch76.pt\n",
            "Train Epoch: 77 [0%]\tLoss: 0.536692\n",
            "epoch 77 training loss: 0.5471169875592602 acc: 0.7929012345679012\n",
            "epoch 77 validation acc: 0.7859259\n",
            "saved: ECG_MLP_Pytorch_epoch77.pt\n",
            "Train Epoch: 78 [0%]\tLoss: 0.547503\n",
            "epoch 78 training loss: 0.5447264727281065 acc: 0.7953292181069959\n",
            "epoch 78 validation acc: 0.7951852\n",
            "saved: ECG_MLP_Pytorch_epoch78.pt\n",
            "Train Epoch: 79 [0%]\tLoss: 0.543124\n",
            "epoch 79 training loss: 0.5447342985746811 acc: 0.7934979423868312\n",
            "epoch 79 validation acc: 0.80333334\n",
            "saved: ECG_MLP_Pytorch_epoch79.pt\n",
            "Train Epoch: 80 [0%]\tLoss: 0.540477\n",
            "epoch 80 training loss: 0.5422695285203506 acc: 0.7946090534979424\n",
            "epoch 80 validation acc: 0.8055556\n",
            "saved: ECG_MLP_Pytorch_epoch80.pt\n",
            "Train Epoch: 81 [0%]\tLoss: 0.506626\n",
            "epoch 81 training loss: 0.5314767196470377 acc: 0.8007407407407408\n",
            "epoch 81 validation acc: 0.80722225\n",
            "saved: ECG_MLP_Pytorch_epoch81.pt\n",
            "Train Epoch: 82 [0%]\tLoss: 0.525120\n",
            "epoch 82 training loss: 0.5289480643612998 acc: 0.8010288065843622\n",
            "epoch 82 validation acc: 0.8074074\n",
            "saved: ECG_MLP_Pytorch_epoch82.pt\n",
            "Train Epoch: 83 [0%]\tLoss: 0.548613\n",
            "epoch 83 training loss: 0.5308010468677599 acc: 0.7991152263374486\n",
            "epoch 83 validation acc: 0.8062963\n",
            "saved: ECG_MLP_Pytorch_epoch83.pt\n",
            "Train Epoch: 84 [0%]\tLoss: 0.528605\n",
            "epoch 84 training loss: 0.5266890361600992 acc: 0.8032921810699588\n",
            "epoch 84 validation acc: 0.8090741\n",
            "saved: ECG_MLP_Pytorch_epoch84.pt\n",
            "Train Epoch: 85 [0%]\tLoss: 0.534564\n",
            "epoch 85 training loss: 0.5212064531384683 acc: 0.8041152263374486\n",
            "epoch 85 validation acc: 0.81259257\n",
            "saved: ECG_MLP_Pytorch_epoch85.pt\n",
            "Train Epoch: 86 [0%]\tLoss: 0.540257\n",
            "epoch 86 training loss: 0.5209226802903779 acc: 0.8044444444444444\n",
            "epoch 86 validation acc: 0.8174074\n",
            "saved: ECG_MLP_Pytorch_epoch86.pt\n",
            "Train Epoch: 87 [0%]\tLoss: 0.520054\n",
            "epoch 87 training loss: 0.5162073665735673 acc: 0.8064197530864198\n",
            "epoch 87 validation acc: 0.8057407\n",
            "saved: ECG_MLP_Pytorch_epoch87.pt\n",
            "Train Epoch: 88 [0%]\tLoss: 0.486744\n",
            "epoch 88 training loss: 0.519397285519814 acc: 0.8045884773662552\n",
            "epoch 88 validation acc: 0.8074074\n",
            "saved: ECG_MLP_Pytorch_epoch88.pt\n",
            "Train Epoch: 89 [0%]\tLoss: 0.533188\n",
            "epoch 89 training loss: 0.5131155057829253 acc: 0.8080658436213992\n",
            "epoch 89 validation acc: 0.81240743\n",
            "saved: ECG_MLP_Pytorch_epoch89.pt\n",
            "Train Epoch: 90 [0%]\tLoss: 0.511647\n",
            "epoch 90 training loss: 0.5095066361281336 acc: 0.8097325102880658\n",
            "epoch 90 validation acc: 0.8037037\n",
            "saved: ECG_MLP_Pytorch_epoch90.pt\n",
            "Train Epoch: 91 [0%]\tLoss: 0.513171\n",
            "epoch 91 training loss: 0.5116569405915786 acc: 0.8087448559670782\n",
            "epoch 91 validation acc: 0.81240743\n",
            "saved: ECG_MLP_Pytorch_epoch91.pt\n",
            "Train Epoch: 92 [0%]\tLoss: 0.479524\n",
            "epoch 92 training loss: 0.5105070575159423 acc: 0.8076131687242798\n",
            "epoch 92 validation acc: 0.81240743\n",
            "saved: ECG_MLP_Pytorch_epoch92.pt\n",
            "Train Epoch: 93 [0%]\tLoss: 0.508144\n",
            "epoch 93 training loss: 0.5071533407483783 acc: 0.8118930041152264\n",
            "epoch 93 validation acc: 0.8162963\n",
            "saved: ECG_MLP_Pytorch_epoch93.pt\n",
            "Train Epoch: 94 [0%]\tLoss: 0.496947\n",
            "epoch 94 training loss: 0.5011298814598395 acc: 0.8146296296296296\n",
            "epoch 94 validation acc: 0.81814814\n",
            "saved: ECG_MLP_Pytorch_epoch94.pt\n",
            "Train Epoch: 95 [0%]\tLoss: 0.439897\n",
            "epoch 95 training loss: 0.5023029215481817 acc: 0.81440329218107\n",
            "epoch 95 validation acc: 0.81314814\n",
            "saved: ECG_MLP_Pytorch_epoch95.pt\n",
            "Train Epoch: 96 [0%]\tLoss: 0.532354\n",
            "epoch 96 training loss: 0.5013602540201071 acc: 0.8123456790123457\n",
            "epoch 96 validation acc: 0.8183333\n",
            "saved: ECG_MLP_Pytorch_epoch96.pt\n",
            "Train Epoch: 97 [0%]\tLoss: 0.524454\n",
            "epoch 97 training loss: 0.4919635689988428 acc: 0.8165843621399177\n",
            "epoch 97 validation acc: 0.8248148\n",
            "saved: ECG_MLP_Pytorch_epoch97.pt\n",
            "Train Epoch: 98 [0%]\tLoss: 0.485988\n",
            "epoch 98 training loss: 0.5014503245451012 acc: 0.8126748971193416\n",
            "epoch 98 validation acc: 0.8198148\n",
            "saved: ECG_MLP_Pytorch_epoch98.pt\n",
            "Train Epoch: 99 [0%]\tLoss: 0.478999\n",
            "epoch 99 training loss: 0.49437806131888407 acc: 0.8143621399176955\n",
            "epoch 99 validation acc: 0.8277778\n",
            "saved: ECG_MLP_Pytorch_epoch99.pt\n"
          ]
        }
      ]
    },
    {
      "cell_type": "code",
      "source": [
        "fig, ax = plt.subplots(1, 2, figsize=(12,6))\n",
        "ax[0].set_title('loss v.s. epoch',fontsize=16)\n",
        "ax[0].plot(loss_train_list, '-b', label='training loss')\n",
        "ax[0].set_xlabel('epoch',fontsize=16)\n",
        "ax[0].legend(fontsize=16)\n",
        "ax[0].grid(True)\n",
        "ax[1].set_title('accuracy v.s. epoch',fontsize=16)\n",
        "ax[1].plot(acc_train_list, '-b', label='training accuracy')\n",
        "ax[1].plot(acc_val_list, '-g', label='validation accuracy')\n",
        "ax[1].set_xlabel('epoch',fontsize=16)\n",
        "ax[1].legend(fontsize=16)\n",
        "ax[1].grid(True)"
      ],
      "metadata": {
        "id": "JrxPdhVc3v1l",
        "colab": {
          "base_uri": "https://localhost:8080/",
          "height": 572
        },
        "outputId": "e99ed35d-919c-4cd5-b66d-3c6281567b3a"
      },
      "execution_count": null,
      "outputs": [
        {
          "output_type": "display_data",
          "data": {
            "text/plain": [
              "<Figure size 1200x600 with 2 Axes>"
            ],
            "image/png": "[encoded data removed]"
          },
          "metadata": {}
        }
      ]
    },
    {
      "cell_type": "markdown",
      "source": [
        "Load the best model"
      ],
      "metadata": {
        "id": "pfRXBTgk3yPy"
      }
    },
    {
      "cell_type": "code",
      "source": [
        "best_epoch=np.argmax(acc_val_list)\n",
        "best_epoch"
      ],
      "metadata": {
        "id": "eDhSJpHK3xhs",
        "colab": {
          "base_uri": "https://localhost:8080/"
        },
        "outputId": "8a0f01d6-603b-4cfd-d7cd-4f92a79e0a83"
      },
      "execution_count": null,
      "outputs": [
        {
          "output_type": "execute_result",
          "data": {
            "text/plain": [
              "99"
            ]
          },
          "metadata": {},
          "execution_count": 206
        }
      ]
    },
    {
      "cell_type": "code",
      "source": [
        "acc, (confusion, sens, prec) = test(model, device, loader_test)\n",
        "print('Accuracy', acc)\n",
        "print('Sensitivity', sens)\n",
        "print('Precision', prec)\n",
        "print('Confusion \\n', confusion)"
      ],
      "metadata": {
        "id": "Qm8MDWXD31Ez",
        "colab": {
          "base_uri": "https://localhost:8080/"
        },
        "outputId": "3b3212a7-e63a-4a90-9e51-8c6df84f5aaf"
      },
      "execution_count": null,
      "outputs": [
        {
          "output_type": "stream",
          "name": "stdout",
          "text": [
            "Accuracy 0.8103\n",
            "Sensitivity [0.79699999 0.93800002 0.65600002 0.85500002 0.63200003 0.91399997\n",
            " 0.49700001 0.91799998 0.94099998 0.95499998]\n",
            "Precision [0.78677195 0.9710145  0.6194523  0.80131209 0.7125141  0.95307612\n",
            " 0.50405681 0.90891087 0.9280079  0.91915303]\n",
            "Confusion \n",
            " [[797.   3.  23.  64.   4.   3.  91.   0.  15.   0.]\n",
            " [  2. 938.   9.  43.   3.   0.   4.   0.   1.   0.]\n",
            " [ 12.   2. 656.  12. 127.   0. 177.   0.  14.   0.]\n",
            " [ 21.  18.  18. 855.  30.   1.  50.   0.   7.   0.]\n",
            " [  1.   2. 173.  41. 632.   2. 143.   0.   6.   0.]\n",
            " [  0.   0.   0.   1.   0. 914.   0.  53.   4.  28.]\n",
            " [175.   1. 170.  44.  87.   0. 497.   0.  26.   0.]\n",
            " [  0.   0.   0.   0.   0.  28.   0. 918.   0.  54.]\n",
            " [  5.   2.   9.   7.   4.   2.  24.   4. 941.   2.]\n",
            " [  0.   0.   1.   0.   0.   9.   0.  35.   0. 955.]]\n"
          ]
        }
      ]
    },
    {
      "cell_type": "markdown",
      "source": [
        "The best model is Random Forest"
      ],
      "metadata": {
        "id": "GB40Ka-4sxmd"
      }
    }
  ]
}