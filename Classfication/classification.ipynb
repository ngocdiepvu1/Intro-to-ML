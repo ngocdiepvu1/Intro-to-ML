{
 "cells": [
  {
   "cell_type": "markdown",
   "metadata": {},
   "source": [
    "# Homework 3 Part 2 Task 1 - Classification\n",
    "The dataset is from https://www.kaggle.com/c/GiveMeSomeCredit <br>\n",
    "\"Banks play a crucial role in market economies. They decide who can get finance and on what terms and can make or break investment decisions. For markets and society to function, individuals and companies need access to credit. Credit scoring algorithms, which make a guess at the probability of default, are the method banks use to determine whether or not a loan should be granted.\"  <br>\n",
    "In this task, we will build classifiers to predict if someone will experience financial distress and therefore cannot pay off credit card (i.e. default). It is a binary classificaiton problem: default (class-1) or not default  (class-0) <br>\n",
    "Learning Objective: <br>\n",
    "1. It is almost computationally infeasible to do cross-validation for a large dataset <br>\n",
    "    So, we divide the data into three sets: training, validation and testing sets <br>\n",
    "    we do not repeat the above process. \n",
    "2. Real dataset is often imbalanced: class-i may have much more data samples than class-j. We set class_weight='balanced' if possible and use weighted classification accuracy, or do upsampling to balance data between classes. \n",
    "2. Given the model type (e.g. RandomForest), we find the best trainable-parameters on the training set  <br>\n",
    "    and find the best hyper-parameters using training-validation strategy <br>\n",
    "3. Then, we evaluate the trained model on the testing set using the best parameters <br>\n",
    "4. To simply the task, you only need to find the best max_depth of DecisionTreeClassifier/RandomForestClassifier and the best n_neighbors of KNeighborsClassifier <br>\n",
    " <br>\n",
    "This is a guided-task: <br>\n",
    "You will see the output of a code cell and then figure out the code in that cell. <br>\n",
    "In each code cell, there are instructions to help you. <br>\n",
    "This is a very efficient and effective way to learn how to program with sk-learn"
   ]
  },
  {
   "cell_type": "code",
   "execution_count": 1,
   "metadata": {},
   "outputs": [],
   "source": [
    "import numpy as np\n",
    "import pandas as pd\n",
    "import matplotlib.pyplot as plt\n",
    "import seaborn as sns"
   ]
  },
  {
   "cell_type": "code",
   "execution_count": 2,
   "metadata": {},
   "outputs": [
    {
     "data": {
      "text/html": [
       "<div>\n",
       "<style scoped>\n",
       "    .dataframe tbody tr th:only-of-type {\n",
       "        vertical-align: middle;\n",
       "    }\n",
       "\n",
       "    .dataframe tbody tr th {\n",
       "        vertical-align: top;\n",
       "    }\n",
       "\n",
       "    .dataframe thead th {\n",
       "        text-align: right;\n",
       "    }\n",
       "</style>\n",
       "<table border=\"1\" class=\"dataframe\">\n",
       "  <thead>\n",
       "    <tr style=\"text-align: right;\">\n",
       "      <th></th>\n",
       "      <th>id</th>\n",
       "      <th>SeriousDlqin2yrs</th>\n",
       "      <th>RevolvingUtilizationOfUnsecuredLines</th>\n",
       "      <th>age</th>\n",
       "      <th>NumberOfTime30-59DaysPastDueNotWorse</th>\n",
       "      <th>DebtRatio</th>\n",
       "      <th>MonthlyIncome</th>\n",
       "      <th>NumberOfOpenCreditLinesAndLoans</th>\n",
       "      <th>NumberOfTimes90DaysLate</th>\n",
       "      <th>NumberRealEstateLoansOrLines</th>\n",
       "      <th>NumberOfTime60-89DaysPastDueNotWorse</th>\n",
       "      <th>NumberOfDependents</th>\n",
       "    </tr>\n",
       "  </thead>\n",
       "  <tbody>\n",
       "    <tr>\n",
       "      <th>0</th>\n",
       "      <td>1</td>\n",
       "      <td>1</td>\n",
       "      <td>0.766127</td>\n",
       "      <td>45</td>\n",
       "      <td>2</td>\n",
       "      <td>0.802982</td>\n",
       "      <td>9120.0</td>\n",
       "      <td>13</td>\n",
       "      <td>0</td>\n",
       "      <td>6</td>\n",
       "      <td>0</td>\n",
       "      <td>2.0</td>\n",
       "    </tr>\n",
       "    <tr>\n",
       "      <th>1</th>\n",
       "      <td>2</td>\n",
       "      <td>0</td>\n",
       "      <td>0.957151</td>\n",
       "      <td>40</td>\n",
       "      <td>0</td>\n",
       "      <td>0.121876</td>\n",
       "      <td>2600.0</td>\n",
       "      <td>4</td>\n",
       "      <td>0</td>\n",
       "      <td>0</td>\n",
       "      <td>0</td>\n",
       "      <td>1.0</td>\n",
       "    </tr>\n",
       "    <tr>\n",
       "      <th>2</th>\n",
       "      <td>3</td>\n",
       "      <td>0</td>\n",
       "      <td>0.658180</td>\n",
       "      <td>38</td>\n",
       "      <td>1</td>\n",
       "      <td>0.085113</td>\n",
       "      <td>3042.0</td>\n",
       "      <td>2</td>\n",
       "      <td>1</td>\n",
       "      <td>0</td>\n",
       "      <td>0</td>\n",
       "      <td>0.0</td>\n",
       "    </tr>\n",
       "    <tr>\n",
       "      <th>3</th>\n",
       "      <td>4</td>\n",
       "      <td>0</td>\n",
       "      <td>0.233810</td>\n",
       "      <td>30</td>\n",
       "      <td>0</td>\n",
       "      <td>0.036050</td>\n",
       "      <td>3300.0</td>\n",
       "      <td>5</td>\n",
       "      <td>0</td>\n",
       "      <td>0</td>\n",
       "      <td>0</td>\n",
       "      <td>0.0</td>\n",
       "    </tr>\n",
       "    <tr>\n",
       "      <th>4</th>\n",
       "      <td>5</td>\n",
       "      <td>0</td>\n",
       "      <td>0.907239</td>\n",
       "      <td>49</td>\n",
       "      <td>1</td>\n",
       "      <td>0.024926</td>\n",
       "      <td>63588.0</td>\n",
       "      <td>7</td>\n",
       "      <td>0</td>\n",
       "      <td>1</td>\n",
       "      <td>0</td>\n",
       "      <td>0.0</td>\n",
       "    </tr>\n",
       "  </tbody>\n",
       "</table>\n",
       "</div>"
      ],
      "text/plain": [
       "   id  SeriousDlqin2yrs  RevolvingUtilizationOfUnsecuredLines  age  \\\n",
       "0   1                 1                              0.766127   45   \n",
       "1   2                 0                              0.957151   40   \n",
       "2   3                 0                              0.658180   38   \n",
       "3   4                 0                              0.233810   30   \n",
       "4   5                 0                              0.907239   49   \n",
       "\n",
       "   NumberOfTime30-59DaysPastDueNotWorse  DebtRatio  MonthlyIncome  \\\n",
       "0                                     2   0.802982         9120.0   \n",
       "1                                     0   0.121876         2600.0   \n",
       "2                                     1   0.085113         3042.0   \n",
       "3                                     0   0.036050         3300.0   \n",
       "4                                     1   0.024926        63588.0   \n",
       "\n",
       "   NumberOfOpenCreditLinesAndLoans  NumberOfTimes90DaysLate  \\\n",
       "0                               13                        0   \n",
       "1                                4                        0   \n",
       "2                                2                        1   \n",
       "3                                5                        0   \n",
       "4                                7                        0   \n",
       "\n",
       "   NumberRealEstateLoansOrLines  NumberOfTime60-89DaysPastDueNotWorse  \\\n",
       "0                             6                                     0   \n",
       "1                             0                                     0   \n",
       "2                             0                                     0   \n",
       "3                             0                                     0   \n",
       "4                             1                                     0   \n",
       "\n",
       "   NumberOfDependents  \n",
       "0                 2.0  \n",
       "1                 1.0  \n",
       "2                 0.0  \n",
       "3                 0.0  \n",
       "4                 0.0  "
      ]
     },
     "execution_count": 2,
     "metadata": {},
     "output_type": "execute_result"
    }
   ],
   "source": [
    "#every row of the table is a data sample (feature vector) from a person\n",
    "df = pd.read_csv('cs_data.csv')\n",
    "df.head()"
   ]
  },
  {
   "cell_type": "markdown",
   "metadata": {},
   "source": [
    "#### handle nan (null) in data (i.e. missing values)\n",
    "Some fields in the table are nan, which are missing values. <br>\n",
    "For example, someone may not want to reveal monthly income to whoever made the table/survey, then the table got nan."
   ]
  },
  {
   "cell_type": "code",
   "execution_count": 3,
   "metadata": {},
   "outputs": [
    {
     "data": {
      "text/plain": [
       "id                                          0\n",
       "SeriousDlqin2yrs                            0\n",
       "RevolvingUtilizationOfUnsecuredLines        0\n",
       "age                                         0\n",
       "NumberOfTime30-59DaysPastDueNotWorse        0\n",
       "DebtRatio                                   0\n",
       "MonthlyIncome                           29731\n",
       "NumberOfOpenCreditLinesAndLoans             0\n",
       "NumberOfTimes90DaysLate                     0\n",
       "NumberRealEstateLoansOrLines                0\n",
       "NumberOfTime60-89DaysPastDueNotWorse        0\n",
       "NumberOfDependents                       3924\n",
       "dtype: int64"
      ]
     },
     "execution_count": 3,
     "metadata": {},
     "output_type": "execute_result"
    }
   ],
   "source": [
    "df.isnull().sum()"
   ]
  },
  {
   "cell_type": "code",
   "execution_count": 4,
   "metadata": {},
   "outputs": [
    {
     "data": {
      "text/plain": [
       "id                                      0\n",
       "SeriousDlqin2yrs                        0\n",
       "RevolvingUtilizationOfUnsecuredLines    0\n",
       "age                                     0\n",
       "NumberOfTime30-59DaysPastDueNotWorse    0\n",
       "DebtRatio                               0\n",
       "MonthlyIncome                           0\n",
       "NumberOfOpenCreditLinesAndLoans         0\n",
       "NumberOfTimes90DaysLate                 0\n",
       "NumberRealEstateLoansOrLines            0\n",
       "NumberOfTime60-89DaysPastDueNotWorse    0\n",
       "NumberOfDependents                      0\n",
       "dtype: int64"
      ]
     },
     "execution_count": 4,
     "metadata": {},
     "output_type": "execute_result"
    }
   ],
   "source": [
    "#here, we use a simple method:\n",
    "#replace nan in each column with median value of that column\n",
    "#there are other methods in pandas and sklearn: interpolation in pandas and KNNImputer in sklearn\n",
    "from sklearn.impute import SimpleImputer\n",
    "imputer = SimpleImputer(strategy='median')\n",
    "dfv=imputer.fit_transform(df.values)\n",
    "df=pd.DataFrame(data=dfv, columns=df.columns)\n",
    "df.isnull().sum()"
   ]
  },
  {
   "cell_type": "markdown",
   "metadata": {},
   "source": [
    "### We have a highly imbalanced dataset\n",
    "139974 data samples in class-0 (normal) <br>\n",
    "10026 data samples in class-1 (financial distress)"
   ]
  },
  {
   "cell_type": "code",
   "execution_count": 5,
   "metadata": {},
   "outputs": [
    {
     "data": {
      "text/plain": [
       "<AxesSubplot:>"
      ]
     },
     "execution_count": 5,
     "metadata": {},
     "output_type": "execute_result"
    },
    {
     "data": {
      "image/png": "[encoded data removed]",
      "text/plain": [
       "<Figure size 432x288 with 1 Axes>"
      ]
     },
     "metadata": {
      "needs_background": "light"
     },
     "output_type": "display_data"
    }
   ],
   "source": [
    "df['SeriousDlqin2yrs'].hist()"
   ]
  },
  {
   "cell_type": "code",
   "execution_count": 6,
   "metadata": {},
   "outputs": [
    {
     "data": {
      "text/plain": [
       "139974"
      ]
     },
     "execution_count": 6,
     "metadata": {},
     "output_type": "execute_result"
    }
   ],
   "source": [
    "(df['SeriousDlqin2yrs']==0).sum()"
   ]
  },
  {
   "cell_type": "code",
   "execution_count": 7,
   "metadata": {},
   "outputs": [
    {
     "data": {
      "text/plain": [
       "10026"
      ]
     },
     "execution_count": 7,
     "metadata": {},
     "output_type": "execute_result"
    }
   ],
   "source": [
    "(df['SeriousDlqin2yrs']==1).sum()"
   ]
  },
  {
   "cell_type": "markdown",
   "metadata": {},
   "source": [
    "#### Classification Goal: predict 'SeriousDlqin2yrs' (Y) using the other features (X)"
   ]
  },
  {
   "cell_type": "code",
   "execution_count": 9,
   "metadata": {},
   "outputs": [
    {
     "data": {
      "text/html": [
       "<div>\n",
       "<style scoped>\n",
       "    .dataframe tbody tr th:only-of-type {\n",
       "        vertical-align: middle;\n",
       "    }\n",
       "\n",
       "    .dataframe tbody tr th {\n",
       "        vertical-align: top;\n",
       "    }\n",
       "\n",
       "    .dataframe thead th {\n",
       "        text-align: right;\n",
       "    }\n",
       "</style>\n",
       "<table border=\"1\" class=\"dataframe\">\n",
       "  <thead>\n",
       "    <tr style=\"text-align: right;\">\n",
       "      <th></th>\n",
       "      <th>RevolvingUtilizationOfUnsecuredLines</th>\n",
       "      <th>age</th>\n",
       "      <th>NumberOfTime30-59DaysPastDueNotWorse</th>\n",
       "      <th>DebtRatio</th>\n",
       "      <th>MonthlyIncome</th>\n",
       "      <th>NumberOfOpenCreditLinesAndLoans</th>\n",
       "      <th>NumberOfTimes90DaysLate</th>\n",
       "      <th>NumberRealEstateLoansOrLines</th>\n",
       "      <th>NumberOfTime60-89DaysPastDueNotWorse</th>\n",
       "      <th>NumberOfDependents</th>\n",
       "    </tr>\n",
       "  </thead>\n",
       "  <tbody>\n",
       "    <tr>\n",
       "      <th>0</th>\n",
       "      <td>0.766127</td>\n",
       "      <td>45.0</td>\n",
       "      <td>2.0</td>\n",
       "      <td>0.802982</td>\n",
       "      <td>9120.0</td>\n",
       "      <td>13.0</td>\n",
       "      <td>0.0</td>\n",
       "      <td>6.0</td>\n",
       "      <td>0.0</td>\n",
       "      <td>2.0</td>\n",
       "    </tr>\n",
       "    <tr>\n",
       "      <th>1</th>\n",
       "      <td>0.957151</td>\n",
       "      <td>40.0</td>\n",
       "      <td>0.0</td>\n",
       "      <td>0.121876</td>\n",
       "      <td>2600.0</td>\n",
       "      <td>4.0</td>\n",
       "      <td>0.0</td>\n",
       "      <td>0.0</td>\n",
       "      <td>0.0</td>\n",
       "      <td>1.0</td>\n",
       "    </tr>\n",
       "    <tr>\n",
       "      <th>2</th>\n",
       "      <td>0.658180</td>\n",
       "      <td>38.0</td>\n",
       "      <td>1.0</td>\n",
       "      <td>0.085113</td>\n",
       "      <td>3042.0</td>\n",
       "      <td>2.0</td>\n",
       "      <td>1.0</td>\n",
       "      <td>0.0</td>\n",
       "      <td>0.0</td>\n",
       "      <td>0.0</td>\n",
       "    </tr>\n",
       "    <tr>\n",
       "      <th>3</th>\n",
       "      <td>0.233810</td>\n",
       "      <td>30.0</td>\n",
       "      <td>0.0</td>\n",
       "      <td>0.036050</td>\n",
       "      <td>3300.0</td>\n",
       "      <td>5.0</td>\n",
       "      <td>0.0</td>\n",
       "      <td>0.0</td>\n",
       "      <td>0.0</td>\n",
       "      <td>0.0</td>\n",
       "    </tr>\n",
       "    <tr>\n",
       "      <th>4</th>\n",
       "      <td>0.907239</td>\n",
       "      <td>49.0</td>\n",
       "      <td>1.0</td>\n",
       "      <td>0.024926</td>\n",
       "      <td>63588.0</td>\n",
       "      <td>7.0</td>\n",
       "      <td>0.0</td>\n",
       "      <td>1.0</td>\n",
       "      <td>0.0</td>\n",
       "      <td>0.0</td>\n",
       "    </tr>\n",
       "  </tbody>\n",
       "</table>\n",
       "</div>"
      ],
      "text/plain": [
       "   RevolvingUtilizationOfUnsecuredLines   age  \\\n",
       "0                              0.766127  45.0   \n",
       "1                              0.957151  40.0   \n",
       "2                              0.658180  38.0   \n",
       "3                              0.233810  30.0   \n",
       "4                              0.907239  49.0   \n",
       "\n",
       "   NumberOfTime30-59DaysPastDueNotWorse  DebtRatio  MonthlyIncome  \\\n",
       "0                                   2.0   0.802982         9120.0   \n",
       "1                                   0.0   0.121876         2600.0   \n",
       "2                                   1.0   0.085113         3042.0   \n",
       "3                                   0.0   0.036050         3300.0   \n",
       "4                                   1.0   0.024926        63588.0   \n",
       "\n",
       "   NumberOfOpenCreditLinesAndLoans  NumberOfTimes90DaysLate  \\\n",
       "0                             13.0                      0.0   \n",
       "1                              4.0                      0.0   \n",
       "2                              2.0                      1.0   \n",
       "3                              5.0                      0.0   \n",
       "4                              7.0                      0.0   \n",
       "\n",
       "   NumberRealEstateLoansOrLines  NumberOfTime60-89DaysPastDueNotWorse  \\\n",
       "0                           6.0                                   0.0   \n",
       "1                           0.0                                   0.0   \n",
       "2                           0.0                                   0.0   \n",
       "3                           0.0                                   0.0   \n",
       "4                           1.0                                   0.0   \n",
       "\n",
       "   NumberOfDependents  \n",
       "0                 2.0  \n",
       "1                 1.0  \n",
       "2                 0.0  \n",
       "3                 0.0  \n",
       "4                 0.0  "
      ]
     },
     "execution_count": 9,
     "metadata": {},
     "output_type": "execute_result"
    }
   ],
   "source": [
    "#'SeriousDlqin2yrs' is the target/class label, so it should not be in the input feature vector X\n",
    "#'id' of a person is useless for the classification task\n",
    "#so, we remove them from the table and get the input X\n",
    "X=df.drop(['SeriousDlqin2yrs', 'id'], axis=1)\n",
    "X.head()"
   ]
  },
  {
   "cell_type": "code",
   "execution_count": 10,
   "metadata": {},
   "outputs": [
    {
     "data": {
      "text/plain": [
       "0    1.0\n",
       "1    0.0\n",
       "2    0.0\n",
       "3    0.0\n",
       "4    0.0\n",
       "Name: SeriousDlqin2yrs, dtype: float64"
      ]
     },
     "execution_count": 10,
     "metadata": {},
     "output_type": "execute_result"
    }
   ],
   "source": [
    "#Y is the target/class label\n",
    "Y=df['SeriousDlqin2yrs']\n",
    "Y.head()"
   ]
  },
  {
   "cell_type": "code",
   "execution_count": 11,
   "metadata": {},
   "outputs": [],
   "source": [
    "# convert pandas dataframe/series to numpy array\n",
    "# sklearn functions may not work well with pandas data types\n",
    "X=X.values\n",
    "Y=Y.values"
   ]
  },
  {
   "cell_type": "markdown",
   "metadata": {},
   "source": [
    "We split the data into training, validation and testing sets"
   ]
  },
  {
   "cell_type": "code",
   "execution_count": 12,
   "metadata": {},
   "outputs": [
    {
     "name": "stdout",
     "output_type": "stream",
     "text": [
      "train: (108000, 10) (108000,)\n",
      "validation: (12000, 10) (12000,)\n",
      "test: (30000, 10) (30000,)\n"
     ]
    }
   ],
   "source": [
    "from sklearn.model_selection import train_test_split\n",
    "X_train, X_test, Y_train, Y_test = train_test_split(X, Y, test_size=0.2, random_state=0)\n",
    "#split X_train and Y_train into a 'pure' training set and a validation set\n",
    "X_train, X_val, Y_train, Y_val = train_test_split(X_train, Y_train, test_size=0.1, random_state=0)\n",
    "print('train:', X_train.shape, Y_train.shape)\n",
    "print('validation:', X_val.shape, Y_val.shape)\n",
    "print('test:', X_test.shape, Y_test.shape)"
   ]
  },
  {
   "cell_type": "code",
   "execution_count": 13,
   "metadata": {},
   "outputs": [
    {
     "data": {
      "image/png": "[encoded data removed]",
      "text/plain": [
       "<Figure size 432x288 with 1 Axes>"
      ]
     },
     "metadata": {
      "needs_background": "light"
     },
     "output_type": "display_data"
    }
   ],
   "source": [
    "plt.hist(Y_train, bins=20);"
   ]
  },
  {
   "cell_type": "code",
   "execution_count": 14,
   "metadata": {},
   "outputs": [
    {
     "data": {
      "text/plain": [
       "100824"
      ]
     },
     "execution_count": 14,
     "metadata": {},
     "output_type": "execute_result"
    }
   ],
   "source": [
    "(Y_train==0).sum()"
   ]
  },
  {
   "cell_type": "code",
   "execution_count": 15,
   "metadata": {},
   "outputs": [
    {
     "data": {
      "text/plain": [
       "7176"
      ]
     },
     "execution_count": 15,
     "metadata": {},
     "output_type": "execute_result"
    }
   ],
   "source": [
    "(Y_train==1).sum()"
   ]
  },
  {
   "cell_type": "code",
   "execution_count": 16,
   "metadata": {},
   "outputs": [
    {
     "data": {
      "image/png": "[encoded data removed]",
      "text/plain": [
       "<Figure size 432x288 with 1 Axes>"
      ]
     },
     "metadata": {
      "needs_background": "light"
     },
     "output_type": "display_data"
    }
   ],
   "source": [
    "plt.hist(Y_val, bins=20);"
   ]
  },
  {
   "cell_type": "code",
   "execution_count": 17,
   "metadata": {},
   "outputs": [
    {
     "data": {
      "image/png": "[encoded data removed]",
      "text/plain": [
       "<Figure size 432x288 with 1 Axes>"
      ]
     },
     "metadata": {
      "needs_background": "light"
     },
     "output_type": "display_data"
    }
   ],
   "source": [
    "plt.hist(Y_test, bins=20);"
   ]
  },
  {
   "cell_type": "code",
   "execution_count": 18,
   "metadata": {},
   "outputs": [],
   "source": [
    "# we need to use weighted classification accuracy\n",
    "# try to understand it\n",
    "def weighted_accuracy(confusion):\n",
    "    #input: confusion is the confusion matrix\n",
    "    #output: acc is the weighted classification accuracy\n",
    "    M=confusion.copy().astype('float32')\n",
    "    for k in range(0, M.shape[0]):\n",
    "        M[k]/=M[k].sum()+1e-8    \n",
    "    acc = M.diagonal().sum()/M.sum()\n",
    "    return acc"
   ]
  },
  {
   "cell_type": "code",
   "execution_count": 18,
   "metadata": {},
   "outputs": [],
   "source": [
    "#apply feature normalization to training, validation and test sets\n",
    "from sklearn.preprocessing import MinMaxScaler\n",
    "scaler=MinMaxScaler()\n",
    "scaler.fit(X_train) # only fit to X_train, not X to ensure the testing phase remains truly independent from training\n",
    "X_train=scaler.transform(X_train)\n",
    "X_val=scaler.transform(X_val)\n",
    "X_test=scaler.transform(X_test)"
   ]
  },
  {
   "cell_type": "markdown",
   "metadata": {},
   "source": [
    "#### build a LogisticRegression classifier as the baseline model"
   ]
  },
  {
   "cell_type": "code",
   "execution_count": 19,
   "metadata": {
    "scrolled": true
   },
   "outputs": [
    {
     "name": "stdout",
     "output_type": "stream",
     "text": [
      "classification accuracy on validation set is  0.7163831\n",
      "classification accuracy on test set is  0.7099812\n"
     ]
    }
   ],
   "source": [
    "from sklearn.linear_model import LogisticRegression\n",
    "from sklearn.metrics import confusion_matrix\n",
    "#set class_weight='balanced'\n",
    "LR=LogisticRegression(penalty='none', class_weight='balanced', solver='newton-cg', random_state=0)\n",
    "LR.fit(X_train, Y_train)\n",
    "Y_val_pred=LR.predict(X_val)\n",
    "confusion_val=confusion_matrix(Y_val, Y_val_pred)\n",
    "acc_val=weighted_accuracy(confusion_val)\n",
    "Y_test_pred=LR.predict(X_test)\n",
    "confusion_test=confusion_matrix(Y_test, Y_test_pred)\n",
    "acc_test=weighted_accuracy(confusion_test)\n",
    "print('classification accuracy on validation set is ', acc_val)\n",
    "print('classification accuracy on test set is ', acc_test)"
   ]
  },
  {
   "cell_type": "markdown",
   "metadata": {},
   "source": [
    "## Your task begins here"
   ]
  },
  {
   "cell_type": "markdown",
   "metadata": {},
   "source": [
    "#### Let's try DecisionTreeClassifier"
   ]
  },
  {
   "cell_type": "code",
   "execution_count": 25,
   "metadata": {},
   "outputs": [
    {
     "name": "stdout",
     "output_type": "stream",
     "text": [
      "classification accuracy on validation set is  0.6770454\n",
      "classification accuracy on test set is  0.6608055\n"
     ]
    }
   ],
   "source": [
    "from sklearn.tree import DecisionTreeClassifier\n",
    "#set class_weight='balanced', max_depth=20, and random_state=0\n",
    "#your code here, see the example in the above cell\n",
    "tree = DecisionTreeClassifier(class_weight='balanced', max_depth=20, random_state=0)\n",
    "tree.fit(X_train, Y_train)\n",
    "Y_val_pred = tree.predict(X_val)\n",
    "confusion_val = confusion_matrix(Y_val, Y_val_pred)\n",
    "acc_val = weighted_accuracy(confusion_val)\n",
    "\n",
    "Y_test_pred = tree.predict(X_test)\n",
    "confusion_test = confusion_matrix(Y_test, Y_test_pred)\n",
    "acc_test = weighted_accuracy(confusion_test)\n",
    "\n",
    "#-----------\n",
    "print('classification accuracy on validation set is ', acc_val)\n",
    "print('classification accuracy on test set is ', acc_test)"
   ]
  },
  {
   "cell_type": "markdown",
   "metadata": {},
   "source": [
    "#### Let's try randomforest"
   ]
  },
  {
   "cell_type": "code",
   "execution_count": 21,
   "metadata": {},
   "outputs": [
    {
     "name": "stdout",
     "output_type": "stream",
     "text": [
      "classification accuracy on validation set is  0.64681727\n",
      "classification accuracy on test set is  0.63757116\n"
     ]
    }
   ],
   "source": [
    "from sklearn.ensemble import RandomForestClassifier\n",
    "#set n_estimators=20, class_weight='balanced', max_depth=20, and random_state=0\n",
    "#your code here\n",
    "#-----------\n",
    "print('classification accuracy on validation set is ', acc_val)\n",
    "print('classification accuracy on test set is ', acc_test)"
   ]
  },
  {
   "cell_type": "code",
   "execution_count": 27,
   "metadata": {},
   "outputs": [
    {
     "name": "stdout",
     "output_type": "stream",
     "text": [
      "classification accuracy on validation set is  0.6518632\n",
      "classification accuracy on test set is  0.6411114\n"
     ]
    }
   ],
   "source": [
    "from sklearn.ensemble import RandomForestClassifier\n",
    "forest = RandomForestClassifier(n_estimators=20, class_weight='balanced', max_depth=20, random_state=0)\n",
    "forest.fit(X_train, Y_train)\n",
    "\n",
    "Y_val_pred = forest.predict(X_val)\n",
    "confusion_val = confusion_matrix(Y_val, Y_val_pred)\n",
    "acc_val = weighted_accuracy(confusion_val)\n",
    "\n",
    "Y_test_pred = forest.predict(X_test)\n",
    "confusion_test = confusion_matrix(Y_test, Y_test_pred)\n",
    "acc_test = weighted_accuracy(confusion_test)\n",
    "\n",
    "#-----------\n",
    "print('classification accuracy on validation set is ', acc_val)\n",
    "print('classification accuracy on test set is ', acc_test)"
   ]
  },
  {
   "cell_type": "markdown",
   "metadata": {},
   "source": [
    "## Model Selection (hyper-parameter optimization) \n",
    "Clearly, max_depth=20 is not optimal for DecisionTreeClassifier and RandomForestClassifier <br>\n",
    "You will do a grid search to find the best max_depth. <br>"
   ]
  },
  {
   "cell_type": "markdown",
   "metadata": {},
   "source": [
    "### 1. find the best max_depth in DecisionTreeClassifier"
   ]
  },
  {
   "cell_type": "code",
   "execution_count": 33,
   "metadata": {},
   "outputs": [
    {
     "data": {
      "text/plain": [
       "array([ 1,  2,  3,  4,  5,  6,  7,  8,  9, 10, 11, 12, 13, 14, 15, 16, 17,\n",
       "       18, 19, 20])"
      ]
     },
     "execution_count": 33,
     "metadata": {},
     "output_type": "execute_result"
    }
   ],
   "source": [
    "#create an array of possible max_depth\n",
    "# you may need the function np.arange (read the document in sklearn website)\n",
    "# The minimum value of max_depth is 1, obviously.\n",
    "# The maximum value of max_depth is 20 (you may use a larger max_depth)\n",
    "# assume the name of the array is max_depth_list\n",
    "max_depth_list = np.arange(1,21)\n",
    "max_depth_list\n"
   ]
  },
  {
   "cell_type": "code",
   "execution_count": 38,
   "metadata": {},
   "outputs": [],
   "source": [
    "#train a DecisionTreeClassifier with max_depth in max_depth_list\n",
    "#inside a for loop:\n",
    "#   create a model with a max_depth in max_depth_list\n",
    "#   set class_weight to 'balanced'\n",
    "#   set random_state=0 so that the result is reproducible\n",
    "#   train the model on the training set\n",
    "#   record the accuracy on the training set into a list acc_train_list\n",
    "#   record the accuracy on the validation set into a list acc_val_list\n",
    "acc_train_list=[]\n",
    "acc_val_list=[]\n",
    "\n",
    "for max_depth in max_depth_list:\n",
    "    tree = DecisionTreeClassifier(class_weight='balanced', max_depth=max_depth, random_state=0)\n",
    "    tree.fit(X_train, Y_train)\n",
    "    \n",
    "    Y_train_pred = tree.predict(X_train)\n",
    "    confusion_train = confusion_matrix(Y_train, Y_train_pred)\n",
    "    acc_train = weighted_accuracy(confusion_train)\n",
    "    acc_train_list.append(acc_train)\n",
    "    \n",
    "    Y_val_pred = tree.predict(X_val)\n",
    "    confusion_val = confusion_matrix(Y_val, Y_val_pred)\n",
    "    acc_val = weighted_accuracy(confusion_val)\n",
    "    acc_val_list.append(acc_val)\n"
   ]
  },
  {
   "cell_type": "code",
   "execution_count": 39,
   "metadata": {},
   "outputs": [
    {
     "data": {
      "text/plain": [
       "[0.73025393,\n",
       " 0.74848163,\n",
       " 0.75516665,\n",
       " 0.761644,\n",
       " 0.77782166,\n",
       " 0.7830484,\n",
       " 0.788645,\n",
       " 0.79638255,\n",
       " 0.80346155,\n",
       " 0.8124621,\n",
       " 0.823136,\n",
       " 0.83408487,\n",
       " 0.8462498,\n",
       " 0.8599274,\n",
       " 0.8744754,\n",
       " 0.89023125,\n",
       " 0.903829,\n",
       " 0.9166713,\n",
       " 0.92975104,\n",
       " 0.942713]"
      ]
     },
     "execution_count": 39,
     "metadata": {},
     "output_type": "execute_result"
    }
   ],
   "source": [
    "acc_train_list"
   ]
  },
  {
   "cell_type": "code",
   "execution_count": 40,
   "metadata": {},
   "outputs": [
    {
     "data": {
      "text/plain": [
       "[0.7328055,\n",
       " 0.7472936,\n",
       " 0.75336516,\n",
       " 0.76150656,\n",
       " 0.77176636,\n",
       " 0.7775296,\n",
       " 0.7760413,\n",
       " 0.7702999,\n",
       " 0.7686645,\n",
       " 0.7627462,\n",
       " 0.75887907,\n",
       " 0.7471343,\n",
       " 0.73786974,\n",
       " 0.72655606,\n",
       " 0.7288303,\n",
       " 0.7113383,\n",
       " 0.70090246,\n",
       " 0.68862927,\n",
       " 0.6765348,\n",
       " 0.6770454]"
      ]
     },
     "execution_count": 40,
     "metadata": {},
     "output_type": "execute_result"
    }
   ],
   "source": [
    "acc_val_list"
   ]
  },
  {
   "cell_type": "code",
   "execution_count": 43,
   "metadata": {},
   "outputs": [
    {
     "data": {
      "image/png": "[encoded data removed]",
      "text/plain": [
       "<Figure size 720x432 with 2 Axes>"
      ]
     },
     "metadata": {
      "needs_background": "light"
     },
     "output_type": "display_data"
    }
   ],
   "source": [
    "#plot max_depth vs acc_train using max_depth_list and acc_train_list\n",
    "#plot max_depth vs acc_val using max_depth_list and acc_val_list\n",
    "fig, ax = plt.subplots(1,2, figsize=(10,6))\n",
    "ax[0].plot(max_depth_list, acc_train_list, 'b')\n",
    "ax[0].set_xlabel('max_depth')\n",
    "ax[0].set_ylabel('training accuracy')\n",
    "ax[0].set_title('max_depth v.s. training accuracy')\n",
    "ax[0].grid(True)\n",
    "ax[1].plot(max_depth_list, acc_val_list, 'r')\n",
    "ax[1].set_xlabel('max_depth')\n",
    "ax[1].set_ylabel('validation accuracy')\n",
    "ax[1].set_title('max_depth v.s. validation accuracy')\n",
    "ax[1].grid(True)"
   ]
  },
  {
   "cell_type": "markdown",
   "metadata": {},
   "source": [
    "From the above figure, we see that training accuracy keeps increasing as max_depth increases. <br>\n",
    "Validation accuracy reveals the ability of the model predicting y on new data samples that the model did not see during training. <br>\n",
    "This is why we use validation accuracy curve to find the best hyper-parameter"
   ]
  },
  {
   "cell_type": "code",
   "execution_count": 44,
   "metadata": {},
   "outputs": [
    {
     "data": {
      "text/plain": [
       "6"
      ]
     },
     "execution_count": 44,
     "metadata": {},
     "output_type": "execute_result"
    }
   ],
   "source": [
    "#write code to find the best max_depth using np.argmax, max_depth_list and acc_val_list\n",
    "#you may get a different number\n",
    "\n",
    "max_depth_best = max_depth_list[np.argmax(np.array(acc_val_list))]\n",
    "max_depth_best"
   ]
  },
  {
   "cell_type": "code",
   "execution_count": 48,
   "metadata": {},
   "outputs": [
    {
     "name": "stdout",
     "output_type": "stream",
     "text": [
      "classification accuracy on test set is  0.7604906\n"
     ]
    }
   ],
   "source": [
    "#now, we use the max_depth_best to build a DecisionTreeClassifier\n",
    "#train it on the training set and evaluate it on the testing set\n",
    "best_tree = DecisionTreeClassifier(class_weight='balanced', max_depth=max_depth_best, random_state=0)\n",
    "best_tree.fit(X_train, Y_train)\n",
    "\n",
    "Y_test_pred = best_tree.predict(X_test)\n",
    "confusion_test = confusion_matrix(Y_test, Y_test_pred)\n",
    "acc_test = weighted_accuracy(confusion_test)\n",
    "\n",
    "print('classification accuracy on test set is ', acc_test)"
   ]
  },
  {
   "cell_type": "code",
   "execution_count": 49,
   "metadata": {},
   "outputs": [
    {
     "data": {
      "text/plain": [
       "array([[20723,  7234],\n",
       "       [  450,  1593]])"
      ]
     },
     "execution_count": 49,
     "metadata": {},
     "output_type": "execute_result"
    }
   ],
   "source": [
    "confusion_test"
   ]
  },
  {
   "cell_type": "markdown",
   "metadata": {},
   "source": [
    "### 2. find the best max_depth in RandomForestClassifier"
   ]
  },
  {
   "cell_type": "code",
   "execution_count": 50,
   "metadata": {},
   "outputs": [
    {
     "data": {
      "text/plain": [
       "array([ 1,  2,  3,  4,  5,  6,  7,  8,  9, 10, 11, 12, 13, 14, 15, 16, 17,\n",
       "       18, 19, 20])"
      ]
     },
     "execution_count": 50,
     "metadata": {},
     "output_type": "execute_result"
    }
   ],
   "source": [
    "#create an array of possible max_depth\n",
    "# you may need the function np.arange\n",
    "# The minimum value of max_depth is 1, obviously.\n",
    "# assume the name of the array is max_depth_list\n",
    "max_depth_list = np.arange(1,21)\n",
    "max_depth_list"
   ]
  },
  {
   "cell_type": "code",
   "execution_count": 55,
   "metadata": {},
   "outputs": [
    {
     "name": "stdout",
     "output_type": "stream",
     "text": [
      "[0.7528838, 0.75897706, 0.76195526, 0.76883584, 0.77804565, 0.7855084, 0.79213035, 0.79672277, 0.80579424, 0.81316227, 0.82638586, 0.83851147, 0.85187966, 0.86595273, 0.8816892, 0.89849526, 0.9145161, 0.9254457, 0.9425908, 0.95253366]\n",
      "[0.7581687, 0.76106286, 0.7618596, 0.76771146, 0.77675426, 0.77603555, 0.7834316, 0.7804714, 0.77755976, 0.7772896, 0.77009726, 0.7661873, 0.7475862, 0.734534, 0.7164904, 0.7003617, 0.69370544, 0.6867132, 0.6575055, 0.6518632]\n"
     ]
    }
   ],
   "source": [
    "#train a RandomForestClassifier with max_depth in max_depth_list\n",
    "#inside a for loop: \n",
    "#   create a model with a max_depth in max_depth_list\n",
    "#   set class_weight to 'balanced', n_estimators=20\n",
    "#   set random_state=0 so that the result is reproducible\n",
    "#   train the model on the training set\n",
    "#   record the accuracy on the training set into a list acc_train_list\n",
    "#   record the accuracy on the validation set into a list acc_val_list\n",
    "acc_train_list=[]\n",
    "acc_val_list=[]\n",
    "\n",
    "for max_depth in max_depth_list:\n",
    "    forest = RandomForestClassifier(n_estimators=20, class_weight='balanced', max_depth=max_depth, random_state=0)\n",
    "    forest.fit(X_train, Y_train)\n",
    "    \n",
    "    Y_train_pred = forest.predict(X_train)\n",
    "    confusion_train = confusion_matrix(Y_train, Y_train_pred)\n",
    "    acc_train = weighted_accuracy(confusion_train)\n",
    "    acc_train_list.append(acc_train)\n",
    "    \n",
    "    Y_val_pred = forest.predict(X_val)\n",
    "    confusion_val = confusion_matrix(Y_val, Y_val_pred)\n",
    "    acc_val = weighted_accuracy(confusion_val)\n",
    "    acc_val_list.append(acc_val)\n",
    "    \n",
    "print(acc_train_list)\n",
    "print(acc_val_list)"
   ]
  },
  {
   "cell_type": "code",
   "execution_count": 56,
   "metadata": {},
   "outputs": [
    {
     "data": {
      "image/png": "[encoded data removed]",
      "text/plain": [
       "<Figure size 720x432 with 2 Axes>"
      ]
     },
     "metadata": {
      "needs_background": "light"
     },
     "output_type": "display_data"
    }
   ],
   "source": [
    "#plot max_depth vs acc_train using max_depth_list and acc_train_list\n",
    "#plot max_depth vs acc_val using max_depth_list and acc_val_list\n",
    "fig, ax = plt.subplots(1,2, figsize=(10,6))\n",
    "ax[0].plot(max_depth_list, acc_train_list, 'b')\n",
    "ax[0].set_xlabel('max_depth')\n",
    "ax[0].set_ylabel('training accuracy')\n",
    "ax[0].set_title('max_depth v.s. training accuracy')\n",
    "ax[0].grid(True)\n",
    "ax[1].plot(max_depth_list, acc_val_list, 'r')\n",
    "ax[1].set_xlabel('max_depth')\n",
    "ax[1].set_ylabel('validation accuracy')\n",
    "ax[1].set_title('max_depth v.s. validation accuracy')\n",
    "ax[1].grid(True)"
   ]
  },
  {
   "cell_type": "code",
   "execution_count": 57,
   "metadata": {},
   "outputs": [
    {
     "data": {
      "text/plain": [
       "7"
      ]
     },
     "execution_count": 57,
     "metadata": {},
     "output_type": "execute_result"
    }
   ],
   "source": [
    "##write code to find the best max_depth using np.argmax, max_depth_list and acc_val_list\n",
    "#you may get a different number\n",
    "max_depth_best = max_depth_list[np.argmax(np.array(acc_val_list))]\n",
    "max_depth_best"
   ]
  },
  {
   "cell_type": "code",
   "execution_count": 59,
   "metadata": {},
   "outputs": [
    {
     "name": "stdout",
     "output_type": "stream",
     "text": [
      "classification accuracy on testing set is  0.77304554\n"
     ]
    }
   ],
   "source": [
    "#now, we use the best max_depth to build a RandomForestClassifier\n",
    "#train it on the training set and evaluate it on the testing set\n",
    "best_forest = RandomForestClassifier(n_estimators=20, class_weight='balanced', max_depth=max_depth_best, random_state=0)\n",
    "best_forest.fit(X_train, Y_train)\n",
    "\n",
    "Y_test_pred = best_forest.predict(X_test)\n",
    "confusion_test = confusion_matrix(Y_test, Y_test_pred)\n",
    "acc_test = weighted_accuracy(confusion_test)\n",
    "\n",
    "print('classification accuracy on testing set is ', acc_test)"
   ]
  },
  {
   "cell_type": "code",
   "execution_count": 60,
   "metadata": {},
   "outputs": [
    {
     "data": {
      "text/plain": [
       "array([[21945,  6012],\n",
       "       [  488,  1555]])"
      ]
     },
     "execution_count": 60,
     "metadata": {},
     "output_type": "execute_result"
    }
   ],
   "source": [
    "confusion_test"
   ]
  },
  {
   "cell_type": "markdown",
   "metadata": {},
   "source": [
    "## KNeighborsClassifier and upsampling\n",
    "We need to find the best hyper-parameter n_neighbors in KNeighborsClassifier <br>\n",
    "There is no 'class_weight' parameter in KNeighborsClassifier, so we have to do upsampling to handle imbalanced data"
   ]
  },
  {
   "cell_type": "code",
   "execution_count": 64,
   "metadata": {},
   "outputs": [
    {
     "name": "stdout",
     "output_type": "stream",
     "text": [
      "classification accuracy on the testing set is  0.5097378\n"
     ]
    }
   ],
   "source": [
    "# build a KNN Classifier with K=5 on the original dataset (X_train, Y_train)\n",
    "# test the Classifier on the test set\n",
    "# get confusion_matrix on the test set\n",
    "# get weighted_accuracy on the test set\n",
    "from sklearn.neighbors import KNeighborsClassifier\n",
    "knn = KNeighborsClassifier(n_neighbors=5)\n",
    "knn.fit(X_train, Y_train)\n",
    "\n",
    "Y_test_pred = knn.predict(X_test)\n",
    "confusion_test = confusion_matrix(Y_test, Y_test_pred)\n",
    "acc_test = weighted_accuracy(confusion_test)\n",
    "\n",
    "print('classification accuracy on the testing set is ', acc_test)"
   ]
  },
  {
   "cell_type": "code",
   "execution_count": 92,
   "metadata": {},
   "outputs": [
    {
     "name": "stdout",
     "output_type": "stream",
     "text": [
      "X_train_c1 (100824, 10) (100824,)\n",
      "X_train_new (201648, 10) (201648,)\n"
     ]
    }
   ],
   "source": [
    "# do up-sampling\n",
    "# in this new training set, class-0 and clas-1 have equal number of samples (100824)\n",
    "from sklearn.utils import resample\n",
    "X_train_c1 = resample(X_train[Y_train==1], n_samples=100824)\n",
    "Y_train_c1 = np.ones(100824)\n",
    "\n",
    "# assemble X_train_new, Y_train_new using np.concatenate\n",
    "X_train_new = np.concatenate((X_train_c1, X_train[Y_train==0]), axis=0)\n",
    "Y_train_new = np.concatenate((np.ones(100824), np.zeros(100824)))\n",
    "\n",
    "print(\"X_train_c1\", X_train_c1.shape, Y_train_c1.shape)\n",
    "print(\"X_train_new\", X_train_new.shape, Y_train_new.shape)\n"
   ]
  },
  {
   "cell_type": "code",
   "execution_count": 93,
   "metadata": {},
   "outputs": [
    {
     "data": {
      "text/plain": [
       "array([  1,  12,  23,  34,  45,  56,  67,  78,  89, 100])"
      ]
     },
     "execution_count": 93,
     "metadata": {},
     "output_type": "execute_result"
    }
   ],
   "source": [
    "# create an array of possible n_neighbors\n",
    "# name it n_neighbors_list\n",
    "n_neighbors_list = np.arange(1, 101, 11)\n",
    "n_neighbors_list"
   ]
  },
  {
   "cell_type": "code",
   "execution_count": 94,
   "metadata": {},
   "outputs": [
    {
     "name": "stdout",
     "output_type": "stream",
     "text": [
      "[0.9992660477664048, 0.8949158930413393, 0.7972605728794732, 0.7469650083313497, 0.7269697691025946, 0.7059231928905816, 0.6912937395858129, 0.6822532333571372, 0.676961834483853, 0.6706587717210188]\n",
      "[0.8974166666666666, 0.7293333333333333, 0.6240833333333333, 0.68725, 0.6561666666666667, 0.6535833333333333, 0.6499166666666667, 0.6500833333333333, 0.6385, 0.64375]\n"
     ]
    }
   ],
   "source": [
    "#train a KNeighborsClassifier with n_neighbors in n_neighbors_list\n",
    "#      using X_train_new, Y_train_new\n",
    "#inside a for loop: \n",
    "#   create a model with a n_neighbors in n_neighbors_list\n",
    "#   train the model on the new training set (X_train_new, Y_train_new)\n",
    "#   record the accuracy on the training set into a list acc_train_list\n",
    "#   record the accuracy on the validation set into a list acc_val_list\n",
    "#this process is very time-consuming\n",
    "from sklearn.metrics import accuracy_score\n",
    "\n",
    "acc_train_list=[]\n",
    "acc_val_list=[]\n",
    "\n",
    "for n_neighbors in n_neighbors_list:\n",
    "    knn = KNeighborsClassifier(n_neighbors=n_neighbors)\n",
    "    knn.fit(X_train_new, Y_train_new)\n",
    "\n",
    "    Y_train_pred = knn.predict(X_train_new)\n",
    "    acc_train = accuracy_score(Y_train_new, Y_train_pred)\n",
    "    acc_train_list.append(acc_train)\n",
    "    \n",
    "    Y_val_pred = knn.predict(X_val)\n",
    "    acc_val = accuracy_score(Y_val, Y_val_pred)\n",
    "    acc_val_list.append(acc_val)\n",
    "    \n",
    "print(acc_train_list)\n",
    "print(acc_val_list)\n"
   ]
  },
  {
   "cell_type": "code",
   "execution_count": 96,
   "metadata": {},
   "outputs": [
    {
     "data": {
      "image/png": "[encoded data removed]",
      "text/plain": [
       "<Figure size 720x432 with 2 Axes>"
      ]
     },
     "metadata": {
      "needs_background": "light"
     },
     "output_type": "display_data"
    }
   ],
   "source": [
    "#plot n_neighbors vs acc_train using n_neighbors_list and acc_train_list\n",
    "#plot n_neighbors vs acc_val using n_neighbors_list and acc_val_list\n",
    "fig, ax = plt.subplots(1,2, figsize=(10,6))\n",
    "ax[0].plot(n_neighbors_list, acc_train_list, 'b')\n",
    "ax[0].set_xlabel('n_neighbors')\n",
    "ax[0].set_ylabel('training accuracy')\n",
    "ax[0].set_title('n_neighbors v.s. training accuracy')\n",
    "ax[0].grid(True)\n",
    "ax[1].plot(n_neighbors_list, acc_val_list, 'r')\n",
    "ax[1].set_xlabel('n_neighbors')\n",
    "ax[1].set_ylabel('validation accuracy')\n",
    "ax[1].set_title('n_neighbors v.s. validation accuracy')\n",
    "ax[1].grid(True)"
   ]
  },
  {
   "cell_type": "markdown",
   "metadata": {},
   "source": [
    "The trainig accuracy and validation accuracy of KNN keep decreasing as n_neighbors increases. <br>"
   ]
  },
  {
   "cell_type": "code",
   "execution_count": 97,
   "metadata": {},
   "outputs": [
    {
     "data": {
      "text/plain": [
       "1"
      ]
     },
     "execution_count": 97,
     "metadata": {},
     "output_type": "execute_result"
    }
   ],
   "source": [
    "##write code to find the best n_neighbors using np.argmax, n_neighbors_list and acc_val_list\n",
    "#you may get a different number\n",
    "n_neighbors_best = n_neighbors_list[np.argmax(np.array(acc_val_list))]\n",
    "n_neighbors_best"
   ]
  },
  {
   "cell_type": "code",
   "execution_count": 99,
   "metadata": {},
   "outputs": [
    {
     "name": "stdout",
     "output_type": "stream",
     "text": [
      "classification accuracy on testing set is  0.8972\n"
     ]
    }
   ],
   "source": [
    "#now, we use n_neighbors_best to build a KNeighborsClassifier\n",
    "#train it on the new training set and evaluate it on the testing set\n",
    "best_knn = KNeighborsClassifier(n_neighbors=n_neighbors_best)\n",
    "best_knn.fit(X_train_new, Y_train_new)\n",
    "\n",
    "Y_test_pred = best_knn.predict(X_test)\n",
    "acc_test = accuracy_score(Y_test, Y_test_pred)\n",
    "\n",
    "print('classification accuracy on testing set is ', acc_test)"
   ]
  },
  {
   "cell_type": "markdown",
   "metadata": {},
   "source": [
    "### Perform grid search for more than one hyper-parameter (you may use a seperate file for this)\n",
    "We will optimize more than one hyper-parameter of random forest <br>\n",
    "To simply this sub-task, we will consider only the following hyper-parameters: <br>\n",
    "`max_depth` <br>\n",
    "`min_samples_split` <br>\n",
    "`min_samples_leaf` <br>\n",
    "`max_features` <br>\n",
    "`max_samples` <br>\n",
    "read the template 'basic_steps_classification_cv_hw3.ipynb'  on Blackboard"
   ]
  },
  {
   "cell_type": "code",
   "execution_count": 106,
   "metadata": {},
   "outputs": [
    {
     "data": {
      "text/plain": [
       "{'mean_fit_time': array([13.32673612, 13.46531718, 13.75843031, 11.72123103, 13.39091139,\n",
       "        13.67857914, 14.47614858, 13.42243383, 11.76597741, 11.33131874,\n",
       "        12.60043159, 14.8709883 , 12.12643402,  9.81830754,  9.4086529 ,\n",
       "         8.65885596, 23.82695191, 17.52948859, 17.06547606, 14.16987338,\n",
       "        14.94107287, 14.8094388 , 14.76176784, 14.67799571, 13.68666854,\n",
       "        13.60017679, 13.73339431, 13.91327016, 14.86959486, 14.8284981 ,\n",
       "        14.98314915, 14.8754359 , 20.2399374 , 19.94009256, 19.84202747,\n",
       "        19.92646639, 21.5896215 , 21.53983729, 21.55769267, 21.35246716,\n",
       "        20.23748374, 20.04959443, 19.97286923, 21.04343553, 21.89896588,\n",
       "        21.66866612, 21.34161327, 24.53344629, 22.25868747, 22.33316066,\n",
       "        22.48550539, 22.09618189, 24.06943324, 24.30410244, 23.29476137,\n",
       "        23.58372362, 22.19457159, 24.2764241 , 21.99355514, 18.07778938,\n",
       "        17.62351463, 14.38859682, 14.02926133, 13.51450579, 13.51203995,\n",
       "        12.86346235, 12.64735024, 12.01061006, 14.25738797, 14.17361395,\n",
       "        14.3145087 , 13.01733005, 12.36259708, 13.1942373 , 12.20238025,\n",
       "        12.17709792, 13.97144535, 13.92348225, 13.70743728, 13.62243936]),\n",
       " 'std_fit_time': array([0.44436305, 0.45287188, 0.47918265, 0.37053782, 0.41394623,\n",
       "        0.51457022, 0.31866656, 0.31336714, 0.27616001, 0.57467898,\n",
       "        1.16264258, 0.41532763, 0.53986388, 0.65878094, 0.70562473,\n",
       "        0.78619656, 1.33659958, 0.33858011, 0.33208282, 0.34759807,\n",
       "        0.22336375, 0.2190222 , 0.16329436, 0.27491448, 0.21493863,\n",
       "        0.18986564, 0.24956938, 0.21604878, 0.23455346, 0.15448368,\n",
       "        0.42645289, 0.20498553, 0.2272357 , 0.32477974, 0.21859798,\n",
       "        0.36176717, 0.33141734, 0.20105666, 0.2301704 , 0.40217497,\n",
       "        0.20029376, 0.3014524 , 0.41651962, 0.18646825, 0.34823175,\n",
       "        0.24382079, 0.2326397 , 0.4565868 , 0.61088603, 0.33010418,\n",
       "        0.42950272, 0.31865765, 0.44609678, 0.35761193, 0.39414693,\n",
       "        0.34259785, 0.29786071, 0.29580691, 0.53872345, 0.62899294,\n",
       "        0.32694541, 0.35904326, 0.14511702, 0.13044717, 0.10647915,\n",
       "        0.16507013, 0.1481112 , 0.12143667, 0.13746058, 0.19213529,\n",
       "        0.1243312 , 0.09086937, 0.13766447, 0.1275196 , 0.19520561,\n",
       "        0.14381959, 0.17021568, 0.09174905, 0.15411763, 0.22019091]),\n",
       " 'mean_score_time': array([0.35659492, 0.41702914, 0.34896765, 0.33317394, 0.34979515,\n",
       "        0.4015193 , 0.38302419, 0.3450109 , 0.30704069, 0.31914995,\n",
       "        0.44662039, 0.39928699, 0.29723978, 0.2583142 , 0.27209549,\n",
       "        0.21728292, 0.23546035, 0.21724162, 0.20322423, 0.16709909,\n",
       "        0.16527083, 0.16034935, 0.16839511, 0.1639776 , 0.1682539 ,\n",
       "        0.16818624, 0.15808277, 0.17014108, 0.17139926, 0.16471698,\n",
       "        0.17284877, 0.15516005, 0.2947504 , 0.28474262, 0.2895942 ,\n",
       "        0.27778986, 0.31068559, 0.28509333, 0.30707285, 0.29138341,\n",
       "        0.30330353, 0.29894428, 0.29676049, 0.3702945 , 0.30479708,\n",
       "        0.29842174, 0.31370499, 0.40307422, 0.32196672, 0.36470952,\n",
       "        0.33877892, 0.31416662, 0.37165563, 0.37909567, 0.34365382,\n",
       "        0.35935872, 0.37870274, 0.36975904, 0.31098943, 0.21831474,\n",
       "        0.25628114, 0.20043962, 0.19379697, 0.19450519, 0.2112426 ,\n",
       "        0.19337358, 0.1840275 , 0.17648749, 0.21572623, 0.1888397 ,\n",
       "        0.18446784, 0.17816863, 0.18541646, 0.19894753, 0.18538365,\n",
       "        0.19600003, 0.19467375, 0.18937385, 0.1911906 , 0.15984445]),\n",
       " 'std_score_time': array([0.06250997, 0.08827843, 0.05340999, 0.06481798, 0.05396317,\n",
       "        0.0628515 , 0.06095074, 0.07966378, 0.03039447, 0.04081795,\n",
       "        0.08975752, 0.08029927, 0.03928903, 0.07196226, 0.0629764 ,\n",
       "        0.05618218, 0.03914725, 0.04430615, 0.03551273, 0.01605119,\n",
       "        0.02122935, 0.01466841, 0.01811242, 0.01683918, 0.02219273,\n",
       "        0.0188449 , 0.01929133, 0.02485328, 0.0205413 , 0.02650415,\n",
       "        0.02292199, 0.02787599, 0.01827478, 0.01985131, 0.02174988,\n",
       "        0.0274994 , 0.02448174, 0.02858778, 0.0543283 , 0.02853374,\n",
       "        0.04536907, 0.02372952, 0.0225051 , 0.03173089, 0.0266276 ,\n",
       "        0.02124751, 0.02915689, 0.0824273 , 0.02509834, 0.06015073,\n",
       "        0.03423044, 0.02020956, 0.03922113, 0.02217237, 0.05414636,\n",
       "        0.05729469, 0.07269049, 0.02019786, 0.02481032, 0.02019632,\n",
       "        0.03140145, 0.0200389 , 0.02188745, 0.01654309, 0.01563157,\n",
       "        0.0221749 , 0.00983858, 0.01137769, 0.03090206, 0.01021637,\n",
       "        0.00993268, 0.00917734, 0.00924672, 0.01617876, 0.01296344,\n",
       "        0.02211644, 0.02469743, 0.01011479, 0.01285809, 0.01118627]),\n",
       " 'param_max_depth': masked_array(data=[1, 1, 1, 1, 1, 1, 1, 1, 1, 1, 1, 1, 1, 1, 1, 1, 11, 11,\n",
       "                    11, 11, 11, 11, 11, 11, 11, 11, 11, 11, 11, 11, 11, 11,\n",
       "                    21, 21, 21, 21, 21, 21, 21, 21, 21, 21, 21, 21, 21, 21,\n",
       "                    21, 21, 31, 31, 31, 31, 31, 31, 31, 31, 31, 31, 31, 31,\n",
       "                    31, 31, 31, 31, 41, 41, 41, 41, 41, 41, 41, 41, 41, 41,\n",
       "                    41, 41, 41, 41, 41, 41],\n",
       "              mask=[False, False, False, False, False, False, False, False,\n",
       "                    False, False, False, False, False, False, False, False,\n",
       "                    False, False, False, False, False, False, False, False,\n",
       "                    False, False, False, False, False, False, False, False,\n",
       "                    False, False, False, False, False, False, False, False,\n",
       "                    False, False, False, False, False, False, False, False,\n",
       "                    False, False, False, False, False, False, False, False,\n",
       "                    False, False, False, False, False, False, False, False,\n",
       "                    False, False, False, False, False, False, False, False,\n",
       "                    False, False, False, False, False, False, False, False],\n",
       "        fill_value='?',\n",
       "             dtype=object),\n",
       " 'param_max_features': masked_array(data=['auto', 'auto', 'auto', 'auto', 'auto', 'auto', 'auto',\n",
       "                    'auto', 'sqrt', 'sqrt', 'sqrt', 'sqrt', 'sqrt', 'sqrt',\n",
       "                    'sqrt', 'sqrt', 'auto', 'auto', 'auto', 'auto', 'auto',\n",
       "                    'auto', 'auto', 'auto', 'sqrt', 'sqrt', 'sqrt', 'sqrt',\n",
       "                    'sqrt', 'sqrt', 'sqrt', 'sqrt', 'auto', 'auto', 'auto',\n",
       "                    'auto', 'auto', 'auto', 'auto', 'auto', 'sqrt', 'sqrt',\n",
       "                    'sqrt', 'sqrt', 'sqrt', 'sqrt', 'sqrt', 'sqrt', 'auto',\n",
       "                    'auto', 'auto', 'auto', 'auto', 'auto', 'auto', 'auto',\n",
       "                    'sqrt', 'sqrt', 'sqrt', 'sqrt', 'sqrt', 'sqrt', 'sqrt',\n",
       "                    'sqrt', 'auto', 'auto', 'auto', 'auto', 'auto', 'auto',\n",
       "                    'auto', 'auto', 'sqrt', 'sqrt', 'sqrt', 'sqrt', 'sqrt',\n",
       "                    'sqrt', 'sqrt', 'sqrt'],\n",
       "              mask=[False, False, False, False, False, False, False, False,\n",
       "                    False, False, False, False, False, False, False, False,\n",
       "                    False, False, False, False, False, False, False, False,\n",
       "                    False, False, False, False, False, False, False, False,\n",
       "                    False, False, False, False, False, False, False, False,\n",
       "                    False, False, False, False, False, False, False, False,\n",
       "                    False, False, False, False, False, False, False, False,\n",
       "                    False, False, False, False, False, False, False, False,\n",
       "                    False, False, False, False, False, False, False, False,\n",
       "                    False, False, False, False, False, False, False, False],\n",
       "        fill_value='?',\n",
       "             dtype=object),\n",
       " 'param_max_samples': masked_array(data=[0.8, 0.8, 0.8, 0.8, 0.9, 0.9, 0.9, 0.9, 0.8, 0.8, 0.8,\n",
       "                    0.8, 0.9, 0.9, 0.9, 0.9, 0.8, 0.8, 0.8, 0.8, 0.9, 0.9,\n",
       "                    0.9, 0.9, 0.8, 0.8, 0.8, 0.8, 0.9, 0.9, 0.9, 0.9, 0.8,\n",
       "                    0.8, 0.8, 0.8, 0.9, 0.9, 0.9, 0.9, 0.8, 0.8, 0.8, 0.8,\n",
       "                    0.9, 0.9, 0.9, 0.9, 0.8, 0.8, 0.8, 0.8, 0.9, 0.9, 0.9,\n",
       "                    0.9, 0.8, 0.8, 0.8, 0.8, 0.9, 0.9, 0.9, 0.9, 0.8, 0.8,\n",
       "                    0.8, 0.8, 0.9, 0.9, 0.9, 0.9, 0.8, 0.8, 0.8, 0.8, 0.9,\n",
       "                    0.9, 0.9, 0.9],\n",
       "              mask=[False, False, False, False, False, False, False, False,\n",
       "                    False, False, False, False, False, False, False, False,\n",
       "                    False, False, False, False, False, False, False, False,\n",
       "                    False, False, False, False, False, False, False, False,\n",
       "                    False, False, False, False, False, False, False, False,\n",
       "                    False, False, False, False, False, False, False, False,\n",
       "                    False, False, False, False, False, False, False, False,\n",
       "                    False, False, False, False, False, False, False, False,\n",
       "                    False, False, False, False, False, False, False, False,\n",
       "                    False, False, False, False, False, False, False, False],\n",
       "        fill_value='?',\n",
       "             dtype=object),\n",
       " 'param_min_samples_leaf': masked_array(data=[1, 1, 2, 2, 1, 1, 2, 2, 1, 1, 2, 2, 1, 1, 2, 2, 1, 1,\n",
       "                    2, 2, 1, 1, 2, 2, 1, 1, 2, 2, 1, 1, 2, 2, 1, 1, 2, 2,\n",
       "                    1, 1, 2, 2, 1, 1, 2, 2, 1, 1, 2, 2, 1, 1, 2, 2, 1, 1,\n",
       "                    2, 2, 1, 1, 2, 2, 1, 1, 2, 2, 1, 1, 2, 2, 1, 1, 2, 2,\n",
       "                    1, 1, 2, 2, 1, 1, 2, 2],\n",
       "              mask=[False, False, False, False, False, False, False, False,\n",
       "                    False, False, False, False, False, False, False, False,\n",
       "                    False, False, False, False, False, False, False, False,\n",
       "                    False, False, False, False, False, False, False, False,\n",
       "                    False, False, False, False, False, False, False, False,\n",
       "                    False, False, False, False, False, False, False, False,\n",
       "                    False, False, False, False, False, False, False, False,\n",
       "                    False, False, False, False, False, False, False, False,\n",
       "                    False, False, False, False, False, False, False, False,\n",
       "                    False, False, False, False, False, False, False, False],\n",
       "        fill_value='?',\n",
       "             dtype=object),\n",
       " 'param_min_samples_split': masked_array(data=[2, 5, 2, 5, 2, 5, 2, 5, 2, 5, 2, 5, 2, 5, 2, 5, 2, 5,\n",
       "                    2, 5, 2, 5, 2, 5, 2, 5, 2, 5, 2, 5, 2, 5, 2, 5, 2, 5,\n",
       "                    2, 5, 2, 5, 2, 5, 2, 5, 2, 5, 2, 5, 2, 5, 2, 5, 2, 5,\n",
       "                    2, 5, 2, 5, 2, 5, 2, 5, 2, 5, 2, 5, 2, 5, 2, 5, 2, 5,\n",
       "                    2, 5, 2, 5, 2, 5, 2, 5],\n",
       "              mask=[False, False, False, False, False, False, False, False,\n",
       "                    False, False, False, False, False, False, False, False,\n",
       "                    False, False, False, False, False, False, False, False,\n",
       "                    False, False, False, False, False, False, False, False,\n",
       "                    False, False, False, False, False, False, False, False,\n",
       "                    False, False, False, False, False, False, False, False,\n",
       "                    False, False, False, False, False, False, False, False,\n",
       "                    False, False, False, False, False, False, False, False,\n",
       "                    False, False, False, False, False, False, False, False,\n",
       "                    False, False, False, False, False, False, False, False],\n",
       "        fill_value='?',\n",
       "             dtype=object),\n",
       " 'params': [{'max_depth': 1,\n",
       "   'max_features': 'auto',\n",
       "   'max_samples': 0.8,\n",
       "   'min_samples_leaf': 1,\n",
       "   'min_samples_split': 2},\n",
       "  {'max_depth': 1,\n",
       "   'max_features': 'auto',\n",
       "   'max_samples': 0.8,\n",
       "   'min_samples_leaf': 1,\n",
       "   'min_samples_split': 5},\n",
       "  {'max_depth': 1,\n",
       "   'max_features': 'auto',\n",
       "   'max_samples': 0.8,\n",
       "   'min_samples_leaf': 2,\n",
       "   'min_samples_split': 2},\n",
       "  {'max_depth': 1,\n",
       "   'max_features': 'auto',\n",
       "   'max_samples': 0.8,\n",
       "   'min_samples_leaf': 2,\n",
       "   'min_samples_split': 5},\n",
       "  {'max_depth': 1,\n",
       "   'max_features': 'auto',\n",
       "   'max_samples': 0.9,\n",
       "   'min_samples_leaf': 1,\n",
       "   'min_samples_split': 2},\n",
       "  {'max_depth': 1,\n",
       "   'max_features': 'auto',\n",
       "   'max_samples': 0.9,\n",
       "   'min_samples_leaf': 1,\n",
       "   'min_samples_split': 5},\n",
       "  {'max_depth': 1,\n",
       "   'max_features': 'auto',\n",
       "   'max_samples': 0.9,\n",
       "   'min_samples_leaf': 2,\n",
       "   'min_samples_split': 2},\n",
       "  {'max_depth': 1,\n",
       "   'max_features': 'auto',\n",
       "   'max_samples': 0.9,\n",
       "   'min_samples_leaf': 2,\n",
       "   'min_samples_split': 5},\n",
       "  {'max_depth': 1,\n",
       "   'max_features': 'sqrt',\n",
       "   'max_samples': 0.8,\n",
       "   'min_samples_leaf': 1,\n",
       "   'min_samples_split': 2},\n",
       "  {'max_depth': 1,\n",
       "   'max_features': 'sqrt',\n",
       "   'max_samples': 0.8,\n",
       "   'min_samples_leaf': 1,\n",
       "   'min_samples_split': 5},\n",
       "  {'max_depth': 1,\n",
       "   'max_features': 'sqrt',\n",
       "   'max_samples': 0.8,\n",
       "   'min_samples_leaf': 2,\n",
       "   'min_samples_split': 2},\n",
       "  {'max_depth': 1,\n",
       "   'max_features': 'sqrt',\n",
       "   'max_samples': 0.8,\n",
       "   'min_samples_leaf': 2,\n",
       "   'min_samples_split': 5},\n",
       "  {'max_depth': 1,\n",
       "   'max_features': 'sqrt',\n",
       "   'max_samples': 0.9,\n",
       "   'min_samples_leaf': 1,\n",
       "   'min_samples_split': 2},\n",
       "  {'max_depth': 1,\n",
       "   'max_features': 'sqrt',\n",
       "   'max_samples': 0.9,\n",
       "   'min_samples_leaf': 1,\n",
       "   'min_samples_split': 5},\n",
       "  {'max_depth': 1,\n",
       "   'max_features': 'sqrt',\n",
       "   'max_samples': 0.9,\n",
       "   'min_samples_leaf': 2,\n",
       "   'min_samples_split': 2},\n",
       "  {'max_depth': 1,\n",
       "   'max_features': 'sqrt',\n",
       "   'max_samples': 0.9,\n",
       "   'min_samples_leaf': 2,\n",
       "   'min_samples_split': 5},\n",
       "  {'max_depth': 11,\n",
       "   'max_features': 'auto',\n",
       "   'max_samples': 0.8,\n",
       "   'min_samples_leaf': 1,\n",
       "   'min_samples_split': 2},\n",
       "  {'max_depth': 11,\n",
       "   'max_features': 'auto',\n",
       "   'max_samples': 0.8,\n",
       "   'min_samples_leaf': 1,\n",
       "   'min_samples_split': 5},\n",
       "  {'max_depth': 11,\n",
       "   'max_features': 'auto',\n",
       "   'max_samples': 0.8,\n",
       "   'min_samples_leaf': 2,\n",
       "   'min_samples_split': 2},\n",
       "  {'max_depth': 11,\n",
       "   'max_features': 'auto',\n",
       "   'max_samples': 0.8,\n",
       "   'min_samples_leaf': 2,\n",
       "   'min_samples_split': 5},\n",
       "  {'max_depth': 11,\n",
       "   'max_features': 'auto',\n",
       "   'max_samples': 0.9,\n",
       "   'min_samples_leaf': 1,\n",
       "   'min_samples_split': 2},\n",
       "  {'max_depth': 11,\n",
       "   'max_features': 'auto',\n",
       "   'max_samples': 0.9,\n",
       "   'min_samples_leaf': 1,\n",
       "   'min_samples_split': 5},\n",
       "  {'max_depth': 11,\n",
       "   'max_features': 'auto',\n",
       "   'max_samples': 0.9,\n",
       "   'min_samples_leaf': 2,\n",
       "   'min_samples_split': 2},\n",
       "  {'max_depth': 11,\n",
       "   'max_features': 'auto',\n",
       "   'max_samples': 0.9,\n",
       "   'min_samples_leaf': 2,\n",
       "   'min_samples_split': 5},\n",
       "  {'max_depth': 11,\n",
       "   'max_features': 'sqrt',\n",
       "   'max_samples': 0.8,\n",
       "   'min_samples_leaf': 1,\n",
       "   'min_samples_split': 2},\n",
       "  {'max_depth': 11,\n",
       "   'max_features': 'sqrt',\n",
       "   'max_samples': 0.8,\n",
       "   'min_samples_leaf': 1,\n",
       "   'min_samples_split': 5},\n",
       "  {'max_depth': 11,\n",
       "   'max_features': 'sqrt',\n",
       "   'max_samples': 0.8,\n",
       "   'min_samples_leaf': 2,\n",
       "   'min_samples_split': 2},\n",
       "  {'max_depth': 11,\n",
       "   'max_features': 'sqrt',\n",
       "   'max_samples': 0.8,\n",
       "   'min_samples_leaf': 2,\n",
       "   'min_samples_split': 5},\n",
       "  {'max_depth': 11,\n",
       "   'max_features': 'sqrt',\n",
       "   'max_samples': 0.9,\n",
       "   'min_samples_leaf': 1,\n",
       "   'min_samples_split': 2},\n",
       "  {'max_depth': 11,\n",
       "   'max_features': 'sqrt',\n",
       "   'max_samples': 0.9,\n",
       "   'min_samples_leaf': 1,\n",
       "   'min_samples_split': 5},\n",
       "  {'max_depth': 11,\n",
       "   'max_features': 'sqrt',\n",
       "   'max_samples': 0.9,\n",
       "   'min_samples_leaf': 2,\n",
       "   'min_samples_split': 2},\n",
       "  {'max_depth': 11,\n",
       "   'max_features': 'sqrt',\n",
       "   'max_samples': 0.9,\n",
       "   'min_samples_leaf': 2,\n",
       "   'min_samples_split': 5},\n",
       "  {'max_depth': 21,\n",
       "   'max_features': 'auto',\n",
       "   'max_samples': 0.8,\n",
       "   'min_samples_leaf': 1,\n",
       "   'min_samples_split': 2},\n",
       "  {'max_depth': 21,\n",
       "   'max_features': 'auto',\n",
       "   'max_samples': 0.8,\n",
       "   'min_samples_leaf': 1,\n",
       "   'min_samples_split': 5},\n",
       "  {'max_depth': 21,\n",
       "   'max_features': 'auto',\n",
       "   'max_samples': 0.8,\n",
       "   'min_samples_leaf': 2,\n",
       "   'min_samples_split': 2},\n",
       "  {'max_depth': 21,\n",
       "   'max_features': 'auto',\n",
       "   'max_samples': 0.8,\n",
       "   'min_samples_leaf': 2,\n",
       "   'min_samples_split': 5},\n",
       "  {'max_depth': 21,\n",
       "   'max_features': 'auto',\n",
       "   'max_samples': 0.9,\n",
       "   'min_samples_leaf': 1,\n",
       "   'min_samples_split': 2},\n",
       "  {'max_depth': 21,\n",
       "   'max_features': 'auto',\n",
       "   'max_samples': 0.9,\n",
       "   'min_samples_leaf': 1,\n",
       "   'min_samples_split': 5},\n",
       "  {'max_depth': 21,\n",
       "   'max_features': 'auto',\n",
       "   'max_samples': 0.9,\n",
       "   'min_samples_leaf': 2,\n",
       "   'min_samples_split': 2},\n",
       "  {'max_depth': 21,\n",
       "   'max_features': 'auto',\n",
       "   'max_samples': 0.9,\n",
       "   'min_samples_leaf': 2,\n",
       "   'min_samples_split': 5},\n",
       "  {'max_depth': 21,\n",
       "   'max_features': 'sqrt',\n",
       "   'max_samples': 0.8,\n",
       "   'min_samples_leaf': 1,\n",
       "   'min_samples_split': 2},\n",
       "  {'max_depth': 21,\n",
       "   'max_features': 'sqrt',\n",
       "   'max_samples': 0.8,\n",
       "   'min_samples_leaf': 1,\n",
       "   'min_samples_split': 5},\n",
       "  {'max_depth': 21,\n",
       "   'max_features': 'sqrt',\n",
       "   'max_samples': 0.8,\n",
       "   'min_samples_leaf': 2,\n",
       "   'min_samples_split': 2},\n",
       "  {'max_depth': 21,\n",
       "   'max_features': 'sqrt',\n",
       "   'max_samples': 0.8,\n",
       "   'min_samples_leaf': 2,\n",
       "   'min_samples_split': 5},\n",
       "  {'max_depth': 21,\n",
       "   'max_features': 'sqrt',\n",
       "   'max_samples': 0.9,\n",
       "   'min_samples_leaf': 1,\n",
       "   'min_samples_split': 2},\n",
       "  {'max_depth': 21,\n",
       "   'max_features': 'sqrt',\n",
       "   'max_samples': 0.9,\n",
       "   'min_samples_leaf': 1,\n",
       "   'min_samples_split': 5},\n",
       "  {'max_depth': 21,\n",
       "   'max_features': 'sqrt',\n",
       "   'max_samples': 0.9,\n",
       "   'min_samples_leaf': 2,\n",
       "   'min_samples_split': 2},\n",
       "  {'max_depth': 21,\n",
       "   'max_features': 'sqrt',\n",
       "   'max_samples': 0.9,\n",
       "   'min_samples_leaf': 2,\n",
       "   'min_samples_split': 5},\n",
       "  {'max_depth': 31,\n",
       "   'max_features': 'auto',\n",
       "   'max_samples': 0.8,\n",
       "   'min_samples_leaf': 1,\n",
       "   'min_samples_split': 2},\n",
       "  {'max_depth': 31,\n",
       "   'max_features': 'auto',\n",
       "   'max_samples': 0.8,\n",
       "   'min_samples_leaf': 1,\n",
       "   'min_samples_split': 5},\n",
       "  {'max_depth': 31,\n",
       "   'max_features': 'auto',\n",
       "   'max_samples': 0.8,\n",
       "   'min_samples_leaf': 2,\n",
       "   'min_samples_split': 2},\n",
       "  {'max_depth': 31,\n",
       "   'max_features': 'auto',\n",
       "   'max_samples': 0.8,\n",
       "   'min_samples_leaf': 2,\n",
       "   'min_samples_split': 5},\n",
       "  {'max_depth': 31,\n",
       "   'max_features': 'auto',\n",
       "   'max_samples': 0.9,\n",
       "   'min_samples_leaf': 1,\n",
       "   'min_samples_split': 2},\n",
       "  {'max_depth': 31,\n",
       "   'max_features': 'auto',\n",
       "   'max_samples': 0.9,\n",
       "   'min_samples_leaf': 1,\n",
       "   'min_samples_split': 5},\n",
       "  {'max_depth': 31,\n",
       "   'max_features': 'auto',\n",
       "   'max_samples': 0.9,\n",
       "   'min_samples_leaf': 2,\n",
       "   'min_samples_split': 2},\n",
       "  {'max_depth': 31,\n",
       "   'max_features': 'auto',\n",
       "   'max_samples': 0.9,\n",
       "   'min_samples_leaf': 2,\n",
       "   'min_samples_split': 5},\n",
       "  {'max_depth': 31,\n",
       "   'max_features': 'sqrt',\n",
       "   'max_samples': 0.8,\n",
       "   'min_samples_leaf': 1,\n",
       "   'min_samples_split': 2},\n",
       "  {'max_depth': 31,\n",
       "   'max_features': 'sqrt',\n",
       "   'max_samples': 0.8,\n",
       "   'min_samples_leaf': 1,\n",
       "   'min_samples_split': 5},\n",
       "  {'max_depth': 31,\n",
       "   'max_features': 'sqrt',\n",
       "   'max_samples': 0.8,\n",
       "   'min_samples_leaf': 2,\n",
       "   'min_samples_split': 2},\n",
       "  {'max_depth': 31,\n",
       "   'max_features': 'sqrt',\n",
       "   'max_samples': 0.8,\n",
       "   'min_samples_leaf': 2,\n",
       "   'min_samples_split': 5},\n",
       "  {'max_depth': 31,\n",
       "   'max_features': 'sqrt',\n",
       "   'max_samples': 0.9,\n",
       "   'min_samples_leaf': 1,\n",
       "   'min_samples_split': 2},\n",
       "  {'max_depth': 31,\n",
       "   'max_features': 'sqrt',\n",
       "   'max_samples': 0.9,\n",
       "   'min_samples_leaf': 1,\n",
       "   'min_samples_split': 5},\n",
       "  {'max_depth': 31,\n",
       "   'max_features': 'sqrt',\n",
       "   'max_samples': 0.9,\n",
       "   'min_samples_leaf': 2,\n",
       "   'min_samples_split': 2},\n",
       "  {'max_depth': 31,\n",
       "   'max_features': 'sqrt',\n",
       "   'max_samples': 0.9,\n",
       "   'min_samples_leaf': 2,\n",
       "   'min_samples_split': 5},\n",
       "  {'max_depth': 41,\n",
       "   'max_features': 'auto',\n",
       "   'max_samples': 0.8,\n",
       "   'min_samples_leaf': 1,\n",
       "   'min_samples_split': 2},\n",
       "  {'max_depth': 41,\n",
       "   'max_features': 'auto',\n",
       "   'max_samples': 0.8,\n",
       "   'min_samples_leaf': 1,\n",
       "   'min_samples_split': 5},\n",
       "  {'max_depth': 41,\n",
       "   'max_features': 'auto',\n",
       "   'max_samples': 0.8,\n",
       "   'min_samples_leaf': 2,\n",
       "   'min_samples_split': 2},\n",
       "  {'max_depth': 41,\n",
       "   'max_features': 'auto',\n",
       "   'max_samples': 0.8,\n",
       "   'min_samples_leaf': 2,\n",
       "   'min_samples_split': 5},\n",
       "  {'max_depth': 41,\n",
       "   'max_features': 'auto',\n",
       "   'max_samples': 0.9,\n",
       "   'min_samples_leaf': 1,\n",
       "   'min_samples_split': 2},\n",
       "  {'max_depth': 41,\n",
       "   'max_features': 'auto',\n",
       "   'max_samples': 0.9,\n",
       "   'min_samples_leaf': 1,\n",
       "   'min_samples_split': 5},\n",
       "  {'max_depth': 41,\n",
       "   'max_features': 'auto',\n",
       "   'max_samples': 0.9,\n",
       "   'min_samples_leaf': 2,\n",
       "   'min_samples_split': 2},\n",
       "  {'max_depth': 41,\n",
       "   'max_features': 'auto',\n",
       "   'max_samples': 0.9,\n",
       "   'min_samples_leaf': 2,\n",
       "   'min_samples_split': 5},\n",
       "  {'max_depth': 41,\n",
       "   'max_features': 'sqrt',\n",
       "   'max_samples': 0.8,\n",
       "   'min_samples_leaf': 1,\n",
       "   'min_samples_split': 2},\n",
       "  {'max_depth': 41,\n",
       "   'max_features': 'sqrt',\n",
       "   'max_samples': 0.8,\n",
       "   'min_samples_leaf': 1,\n",
       "   'min_samples_split': 5},\n",
       "  {'max_depth': 41,\n",
       "   'max_features': 'sqrt',\n",
       "   'max_samples': 0.8,\n",
       "   'min_samples_leaf': 2,\n",
       "   'min_samples_split': 2},\n",
       "  {'max_depth': 41,\n",
       "   'max_features': 'sqrt',\n",
       "   'max_samples': 0.8,\n",
       "   'min_samples_leaf': 2,\n",
       "   'min_samples_split': 5},\n",
       "  {'max_depth': 41,\n",
       "   'max_features': 'sqrt',\n",
       "   'max_samples': 0.9,\n",
       "   'min_samples_leaf': 1,\n",
       "   'min_samples_split': 2},\n",
       "  {'max_depth': 41,\n",
       "   'max_features': 'sqrt',\n",
       "   'max_samples': 0.9,\n",
       "   'min_samples_leaf': 1,\n",
       "   'min_samples_split': 5},\n",
       "  {'max_depth': 41,\n",
       "   'max_features': 'sqrt',\n",
       "   'max_samples': 0.9,\n",
       "   'min_samples_leaf': 2,\n",
       "   'min_samples_split': 2},\n",
       "  {'max_depth': 41,\n",
       "   'max_features': 'sqrt',\n",
       "   'max_samples': 0.9,\n",
       "   'min_samples_leaf': 2,\n",
       "   'min_samples_split': 5}],\n",
       " 'split0_test_score': array([0.93361111, 0.93361111, 0.93361111, 0.93361111, 0.93361111,\n",
       "        0.93361111, 0.93361111, 0.93361111, 0.93361111, 0.93361111,\n",
       "        0.93361111, 0.93361111, 0.93361111, 0.93361111, 0.93361111,\n",
       "        0.93361111, 0.93583333, 0.93537037, 0.93537037, 0.93564815,\n",
       "        0.93666667, 0.93555556, 0.9362037 , 0.93611111, 0.93574074,\n",
       "        0.93546296, 0.93527778, 0.93564815, 0.93648148, 0.93592593,\n",
       "        0.93666667, 0.93555556, 0.93490741, 0.935     , 0.93574074,\n",
       "        0.93472222, 0.93398148, 0.93481481, 0.9362037 , 0.93601852,\n",
       "        0.93388889, 0.935     , 0.93546296, 0.93592593, 0.93444444,\n",
       "        0.93601852, 0.9362037 , 0.93638889, 0.93518519, 0.93462963,\n",
       "        0.93518519, 0.93537037, 0.93444444, 0.935     , 0.93601852,\n",
       "        0.93592593, 0.93481481, 0.93462963, 0.93583333, 0.93555556,\n",
       "        0.93425926, 0.93518519, 0.93546296, 0.93527778, 0.93324074,\n",
       "        0.93555556, 0.93592593, 0.93564815, 0.93472222, 0.93537037,\n",
       "        0.93574074, 0.93574074, 0.93657407, 0.93564815, 0.93592593,\n",
       "        0.93537037, 0.93472222, 0.93490741, 0.93583333, 0.93546296]),\n",
       " 'split1_test_score': array([0.93361111, 0.93361111, 0.93361111, 0.93361111, 0.93361111,\n",
       "        0.93361111, 0.93361111, 0.93361111, 0.93361111, 0.93361111,\n",
       "        0.93361111, 0.93361111, 0.93361111, 0.93361111, 0.93361111,\n",
       "        0.93361111, 0.93601852, 0.93694444, 0.93731481, 0.93666667,\n",
       "        0.93703704, 0.93768519, 0.93740741, 0.93685185, 0.93694444,\n",
       "        0.93638889, 0.93648148, 0.93703704, 0.93685185, 0.93657407,\n",
       "        0.9362963 , 0.93675926, 0.93703704, 0.93648148, 0.93592593,\n",
       "        0.93601852, 0.93740741, 0.93601852, 0.93583333, 0.93722222,\n",
       "        0.93648148, 0.93638889, 0.9362963 , 0.93685185, 0.93694444,\n",
       "        0.93527778, 0.93648148, 0.9362963 , 0.93611111, 0.93583333,\n",
       "        0.93657407, 0.93648148, 0.93666667, 0.93694444, 0.93722222,\n",
       "        0.93731481, 0.93583333, 0.93703704, 0.93583333, 0.93675926,\n",
       "        0.93583333, 0.93675926, 0.9362963 , 0.93583333, 0.93592593,\n",
       "        0.93694444, 0.93675926, 0.93703704, 0.93583333, 0.9362963 ,\n",
       "        0.93675926, 0.93601852, 0.93611111, 0.93574074, 0.93648148,\n",
       "        0.93611111, 0.93583333, 0.93666667, 0.93722222, 0.93685185]),\n",
       " 'split2_test_score': array([0.93361111, 0.93361111, 0.93361111, 0.93361111, 0.93361111,\n",
       "        0.93361111, 0.93361111, 0.93361111, 0.93361111, 0.93361111,\n",
       "        0.93361111, 0.93361111, 0.93361111, 0.93361111, 0.93361111,\n",
       "        0.93361111, 0.93657407, 0.93648148, 0.93694444, 0.93759259,\n",
       "        0.93666667, 0.93675926, 0.93666667, 0.93592593, 0.93574074,\n",
       "        0.93648148, 0.93638889, 0.93685185, 0.93657407, 0.9362963 ,\n",
       "        0.9362037 , 0.9362963 , 0.93611111, 0.93611111, 0.93814815,\n",
       "        0.9375    , 0.93648148, 0.9362037 , 0.93583333, 0.93648148,\n",
       "        0.93731481, 0.93537037, 0.93685185, 0.93722222, 0.93555556,\n",
       "        0.93592593, 0.93685185, 0.93657407, 0.93601852, 0.93638889,\n",
       "        0.93648148, 0.93768519, 0.9362037 , 0.93638889, 0.93592593,\n",
       "        0.93712963, 0.93564815, 0.93703704, 0.93638889, 0.93666667,\n",
       "        0.93657407, 0.9362963 , 0.93694444, 0.93509259, 0.93574074,\n",
       "        0.93694444, 0.93601852, 0.93537037, 0.93611111, 0.93675926,\n",
       "        0.9375    , 0.93648148, 0.93592593, 0.93657407, 0.93685185,\n",
       "        0.9375    , 0.93611111, 0.93583333, 0.93611111, 0.93731481]),\n",
       " 'split3_test_score': array([0.93361111, 0.93361111, 0.93361111, 0.93361111, 0.93361111,\n",
       "        0.93361111, 0.93361111, 0.93361111, 0.93361111, 0.93361111,\n",
       "        0.93361111, 0.93361111, 0.93361111, 0.93361111, 0.93361111,\n",
       "        0.93361111, 0.93703704, 0.93657407, 0.9362963 , 0.9362963 ,\n",
       "        0.93564815, 0.93546296, 0.93703704, 0.93712963, 0.93592593,\n",
       "        0.93611111, 0.93685185, 0.93657407, 0.93666667, 0.93638889,\n",
       "        0.93564815, 0.93666667, 0.93462963, 0.93601852, 0.93657407,\n",
       "        0.93527778, 0.93574074, 0.93555556, 0.93592593, 0.93555556,\n",
       "        0.93481481, 0.93638889, 0.93574074, 0.93518519, 0.93342593,\n",
       "        0.93555556, 0.93574074, 0.93574074, 0.935     , 0.93546296,\n",
       "        0.93472222, 0.93592593, 0.93407407, 0.93564815, 0.9362037 ,\n",
       "        0.93703704, 0.93546296, 0.93462963, 0.93592593, 0.93527778,\n",
       "        0.93592593, 0.93564815, 0.93481481, 0.9362037 , 0.93601852,\n",
       "        0.9362963 , 0.93648148, 0.93601852, 0.93537037, 0.93472222,\n",
       "        0.93527778, 0.93509259, 0.93509259, 0.93527778, 0.93675926,\n",
       "        0.93546296, 0.93555556, 0.93481481, 0.93527778, 0.93638889]),\n",
       " 'split4_test_score': array([0.93351852, 0.93351852, 0.93351852, 0.93351852, 0.93351852,\n",
       "        0.93351852, 0.93351852, 0.93351852, 0.93351852, 0.93351852,\n",
       "        0.93351852, 0.93351852, 0.93351852, 0.93351852, 0.93351852,\n",
       "        0.93351852, 0.9362963 , 0.93638889, 0.93648148, 0.93638889,\n",
       "        0.93675926, 0.9362963 , 0.93527778, 0.93666667, 0.93601852,\n",
       "        0.93592593, 0.93583333, 0.93648148, 0.93675926, 0.93537037,\n",
       "        0.93537037, 0.93657407, 0.93453704, 0.93444444, 0.93592593,\n",
       "        0.93574074, 0.93481481, 0.93472222, 0.93472222, 0.93462963,\n",
       "        0.93388889, 0.93490741, 0.93592593, 0.93527778, 0.93462963,\n",
       "        0.93453704, 0.93416667, 0.93537037, 0.93527778, 0.93481481,\n",
       "        0.93490741, 0.93555556, 0.93453704, 0.935     , 0.93555556,\n",
       "        0.93490741, 0.93444444, 0.93537037, 0.935     , 0.93490741,\n",
       "        0.93435185, 0.93416667, 0.93518519, 0.93518519, 0.93472222,\n",
       "        0.93601852, 0.93601852, 0.93546296, 0.93574074, 0.93453704,\n",
       "        0.93555556, 0.93453704, 0.93527778, 0.93453704, 0.93453704,\n",
       "        0.93518519, 0.93453704, 0.93425926, 0.93537037, 0.93425926]),\n",
       " 'split5_test_score': array([0.93351852, 0.93351852, 0.93351852, 0.93351852, 0.93351852,\n",
       "        0.93351852, 0.93351852, 0.93351852, 0.93351852, 0.93351852,\n",
       "        0.93351852, 0.93351852, 0.93351852, 0.93351852, 0.93351852,\n",
       "        0.93351852, 0.9375    , 0.93805556, 0.93805556, 0.93777778,\n",
       "        0.93916667, 0.93842593, 0.93861111, 0.93740741, 0.93805556,\n",
       "        0.93805556, 0.93712963, 0.93796296, 0.93814815, 0.93851852,\n",
       "        0.9387037 , 0.9387037 , 0.93703704, 0.93814815, 0.93777778,\n",
       "        0.93759259, 0.9362037 , 0.93796296, 0.93685185, 0.93666667,\n",
       "        0.93703704, 0.93648148, 0.93759259, 0.93712963, 0.9362037 ,\n",
       "        0.93657407, 0.93694444, 0.93888889, 0.93703704, 0.9375    ,\n",
       "        0.93675926, 0.93731481, 0.93648148, 0.93601852, 0.93694444,\n",
       "        0.93657407, 0.93675926, 0.93666667, 0.93703704, 0.93787037,\n",
       "        0.93574074, 0.93722222, 0.93638889, 0.93694444, 0.93675926,\n",
       "        0.93712963, 0.93657407, 0.93731481, 0.93583333, 0.93694444,\n",
       "        0.93722222, 0.93685185, 0.93638889, 0.93768519, 0.93787037,\n",
       "        0.93768519, 0.9362037 , 0.93537037, 0.93722222, 0.93666667]),\n",
       " 'split6_test_score': array([0.93351852, 0.93351852, 0.93351852, 0.93351852, 0.93351852,\n",
       "        0.93351852, 0.93351852, 0.93351852, 0.93351852, 0.93351852,\n",
       "        0.93351852, 0.93351852, 0.93351852, 0.93351852, 0.93351852,\n",
       "        0.93351852, 0.9375    , 0.93805556, 0.93805556, 0.93777778,\n",
       "        0.93685185, 0.93703704, 0.93731481, 0.93666667, 0.93694444,\n",
       "        0.93740741, 0.93824074, 0.93731481, 0.93694444, 0.93703704,\n",
       "        0.9375    , 0.93787037, 0.93685185, 0.93638889, 0.93685185,\n",
       "        0.93601852, 0.935     , 0.93685185, 0.93657407, 0.93666667,\n",
       "        0.93601852, 0.9362037 , 0.9362963 , 0.93638889, 0.93611111,\n",
       "        0.93712963, 0.93666667, 0.93675926, 0.93555556, 0.93638889,\n",
       "        0.93675926, 0.93694444, 0.93546296, 0.9362963 , 0.93666667,\n",
       "        0.93638889, 0.93592593, 0.93601852, 0.93638889, 0.93592593,\n",
       "        0.9362963 , 0.93685185, 0.93601852, 0.93675926, 0.93675926,\n",
       "        0.93537037, 0.93685185, 0.9362963 , 0.93601852, 0.93592593,\n",
       "        0.93666667, 0.93611111, 0.93564815, 0.93611111, 0.93537037,\n",
       "        0.93555556, 0.93694444, 0.93574074, 0.93648148, 0.93564815]),\n",
       " 'split7_test_score': array([0.93351852, 0.93351852, 0.93351852, 0.93351852, 0.93351852,\n",
       "        0.93351852, 0.93351852, 0.93351852, 0.93351852, 0.93351852,\n",
       "        0.93351852, 0.93351852, 0.93351852, 0.93351852, 0.93351852,\n",
       "        0.93351852, 0.93740741, 0.93685185, 0.9375    , 0.93685185,\n",
       "        0.93601852, 0.93731481, 0.93675926, 0.93694444, 0.93787037,\n",
       "        0.93703704, 0.93694444, 0.93731481, 0.93768519, 0.9375    ,\n",
       "        0.93703704, 0.93759259, 0.93527778, 0.93694444, 0.93638889,\n",
       "        0.93657407, 0.93722222, 0.93574074, 0.93527778, 0.93666667,\n",
       "        0.93555556, 0.93703704, 0.9362963 , 0.93722222, 0.9362037 ,\n",
       "        0.93685185, 0.93768519, 0.9362963 , 0.93685185, 0.93666667,\n",
       "        0.93666667, 0.9362037 , 0.93435185, 0.93601852, 0.9362963 ,\n",
       "        0.9362963 , 0.93583333, 0.93675926, 0.9362963 , 0.93601852,\n",
       "        0.93592593, 0.93472222, 0.9375    , 0.9362963 , 0.9362963 ,\n",
       "        0.93546296, 0.93703704, 0.93703704, 0.93648148, 0.93731481,\n",
       "        0.93712963, 0.93638889, 0.93490741, 0.93648148, 0.93537037,\n",
       "        0.93648148, 0.93611111, 0.93685185, 0.93638889, 0.93611111]),\n",
       " 'split8_test_score': array([0.93351852, 0.93351852, 0.93351852, 0.93351852, 0.93351852,\n",
       "        0.93351852, 0.93351852, 0.93351852, 0.93351852, 0.93351852,\n",
       "        0.93351852, 0.93351852, 0.93351852, 0.93351852, 0.93351852,\n",
       "        0.93351852, 0.93935185, 0.93944444, 0.93935185, 0.9412037 ,\n",
       "        0.93944444, 0.94018519, 0.93944444, 0.93907407, 0.93916667,\n",
       "        0.9387037 , 0.93861111, 0.93916667, 0.93851852, 0.93916667,\n",
       "        0.93935185, 0.94055556, 0.93805556, 0.93861111, 0.93925926,\n",
       "        0.93925926, 0.9387037 , 0.93916667, 0.94064815, 0.93916667,\n",
       "        0.93805556, 0.9387037 , 0.9387963 , 0.93962963, 0.93787037,\n",
       "        0.93916667, 0.9387963 , 0.93861111, 0.93833333, 0.93833333,\n",
       "        0.93861111, 0.93861111, 0.93787037, 0.9387963 , 0.93787037,\n",
       "        0.93805556, 0.93777778, 0.93888889, 0.93925926, 0.93944444,\n",
       "        0.93731481, 0.93888889, 0.93851852, 0.93898148, 0.93851852,\n",
       "        0.93898148, 0.93796296, 0.93898148, 0.93861111, 0.93833333,\n",
       "        0.93888889, 0.93851852, 0.93787037, 0.93925926, 0.93944444,\n",
       "        0.93898148, 0.93805556, 0.93787037, 0.93935185, 0.94027778]),\n",
       " 'split9_test_score': array([0.93351852, 0.93351852, 0.93351852, 0.93351852, 0.93351852,\n",
       "        0.93351852, 0.93351852, 0.93351852, 0.93351852, 0.93351852,\n",
       "        0.93351852, 0.93351852, 0.93351852, 0.93351852, 0.93351852,\n",
       "        0.93351852, 0.93564815, 0.93601852, 0.9362963 , 0.93648148,\n",
       "        0.93564815, 0.93657407, 0.9362963 , 0.93657407, 0.93518519,\n",
       "        0.9362963 , 0.93648148, 0.93722222, 0.93583333, 0.9362037 ,\n",
       "        0.9362037 , 0.93518519, 0.93527778, 0.93611111, 0.93481481,\n",
       "        0.93509259, 0.93462963, 0.93555556, 0.9362963 , 0.93685185,\n",
       "        0.93425926, 0.93509259, 0.93518519, 0.9362037 , 0.935     ,\n",
       "        0.93435185, 0.93601852, 0.93574074, 0.93435185, 0.93583333,\n",
       "        0.93527778, 0.93592593, 0.93444444, 0.93583333, 0.935     ,\n",
       "        0.93537037, 0.93518519, 0.93398148, 0.93462963, 0.93583333,\n",
       "        0.93324074, 0.93564815, 0.93555556, 0.93564815, 0.93546296,\n",
       "        0.93546296, 0.9337963 , 0.93583333, 0.93527778, 0.93398148,\n",
       "        0.935     , 0.93592593, 0.93592593, 0.93537037, 0.93564815,\n",
       "        0.93509259, 0.93574074, 0.935     , 0.93518519, 0.93574074]),\n",
       " 'mean_test_score': array([0.93355556, 0.93355556, 0.93355556, 0.93355556, 0.93355556,\n",
       "        0.93355556, 0.93355556, 0.93355556, 0.93355556, 0.93355556,\n",
       "        0.93355556, 0.93355556, 0.93355556, 0.93355556, 0.93355556,\n",
       "        0.93355556, 0.93691667, 0.93701852, 0.93716667, 0.93726852,\n",
       "        0.93699074, 0.93712963, 0.93710185, 0.93693519, 0.93675926,\n",
       "        0.93678704, 0.93682407, 0.93715741, 0.9370463 , 0.93689815,\n",
       "        0.93689815, 0.93717593, 0.93597222, 0.93642593, 0.93674074,\n",
       "        0.93637963, 0.93601852, 0.93625926, 0.93641667, 0.93659259,\n",
       "        0.93573148, 0.93615741, 0.93644444, 0.9367037 , 0.93563889,\n",
       "        0.93613889, 0.93655556, 0.93666667, 0.93597222, 0.93618519,\n",
       "        0.93619444, 0.93660185, 0.9354537 , 0.93619444, 0.93637037,\n",
       "        0.9365    , 0.93576852, 0.93610185, 0.93625926, 0.93642593,\n",
       "        0.9355463 , 0.93613889, 0.93626852, 0.93622222, 0.93594444,\n",
       "        0.93641667, 0.93634259, 0.9365    , 0.936     , 0.93601852,\n",
       "        0.93657407, 0.93616667, 0.93597222, 0.93626852, 0.93642593,\n",
       "        0.93634259, 0.93598148, 0.93573148, 0.93644444, 0.93647222]),\n",
       " 'std_test_score': array([4.53609212e-05, 4.53609212e-05, 4.53609212e-05, 4.53609212e-05,\n",
       "        4.53609212e-05, 4.53609212e-05, 4.53609212e-05, 4.53609212e-05,\n",
       "        4.53609212e-05, 4.53609212e-05, 4.53609212e-05, 4.53609212e-05,\n",
       "        4.53609212e-05, 4.53609212e-05, 4.53609212e-05, 4.53609212e-05,\n",
       "        1.04678782e-03, 1.12552381e-03, 1.08392671e-03, 1.47000765e-03,\n",
       "        1.24862750e-03, 1.33281883e-03, 1.14009271e-03, 8.25529302e-04,\n",
       "        1.20725970e-03, 9.57829981e-04, 9.54242926e-04, 8.90093705e-04,\n",
       "        7.79594439e-04, 1.12434251e-03, 1.22225729e-03, 1.50231303e-03,\n",
       "        1.15592498e-03, 1.19741949e-03, 1.24900509e-03, 1.31693231e-03,\n",
       "        1.39566249e-03, 1.32196802e-03, 1.52541905e-03, 1.11249913e-03,\n",
       "        1.41727172e-03, 1.10122920e-03, 1.01952812e-03, 1.20811159e-03,\n",
       "        1.23703842e-03, 1.33220760e-03, 1.15484902e-03, 1.11726690e-03,\n",
       "        1.11130400e-03, 1.08281881e-03, 1.12296913e-03, 9.76445852e-04,\n",
       "        1.22169601e-03, 1.03558927e-03, 7.93059745e-04, 8.92738577e-04,\n",
       "        9.03477886e-04, 1.40145549e-03, 1.19813527e-03, 1.28513715e-03,\n",
       "        1.16420228e-03, 1.30160948e-03, 1.07507138e-03, 1.10243526e-03,\n",
       "        1.30998068e-03, 1.07107660e-03, 1.02376594e-03, 1.05798940e-03,\n",
       "        9.86708652e-04, 1.30289327e-03, 1.13477879e-03, 1.01108398e-03,\n",
       "        8.15918865e-04, 1.28703704e-03, 1.34702334e-03, 1.24174227e-03,\n",
       "        9.61537406e-04, 1.05201648e-03, 1.19383418e-03, 1.50470798e-03]),\n",
       " 'rank_test_score': array([65, 65, 65, 65, 65, 65, 65, 65, 65, 65, 65, 65, 65, 65, 65, 65, 11,\n",
       "         8,  3,  1,  9,  5,  6, 10, 16, 15, 14,  4,  7, 12, 12,  2, 57, 29,\n",
       "        17, 34, 51, 40, 32, 21, 61, 47, 27, 18, 62, 48, 23, 19, 55, 45, 43,\n",
       "        20, 64, 43, 35, 25, 59, 50, 40, 30, 63, 48, 38, 42, 58, 32, 36, 24,\n",
       "        53, 52, 22, 46, 55, 39, 30, 36, 54, 60, 27, 26], dtype=int32)}"
      ]
     },
     "execution_count": 106,
     "metadata": {},
     "output_type": "execute_result"
    }
   ],
   "source": [
    "from sklearn.model_selection import GridSearchCV\n",
    "\n",
    "max_depth_list = list(np.arange(1, 51, 10))\n",
    "param_grid = {'max_depth': max_depth_list,\n",
    "             'min_samples_split': [2, 5], \n",
    "             'min_samples_leaf': [1, 2],\n",
    "             'max_features': ['auto', 'sqrt'],\n",
    "             'max_samples': [0.8, 0.9]}\n",
    "\n",
    "gs = GridSearchCV(estimator=RandomForestClassifier(),\n",
    "                  param_grid=param_grid,\n",
    "                  scoring='accuracy',\n",
    "                  cv=10, n_jobs=-1)\n",
    "gs.fit(X_train, Y_train)\n",
    "gs.cv_results_"
   ]
  },
  {
   "cell_type": "code",
   "execution_count": 107,
   "metadata": {},
   "outputs": [
    {
     "data": {
      "text/plain": [
       "{'max_depth': 11,\n",
       " 'max_features': 'auto',\n",
       " 'max_samples': 0.8,\n",
       " 'min_samples_leaf': 2,\n",
       " 'min_samples_split': 5}"
      ]
     },
     "execution_count": 107,
     "metadata": {},
     "output_type": "execute_result"
    }
   ],
   "source": [
    "gs.best_params_"
   ]
  }
 ],
 "metadata": {
  "kernelspec": {
   "display_name": "Python 3 (ipykernel)",
   "language": "python",
   "name": "python3"
  },
  "language_info": {
   "codemirror_mode": {
    "name": "ipython",
    "version": 3
   },
   "file_extension": ".py",
   "mimetype": "text/x-python",
   "name": "python",
   "nbconvert_exporter": "python",
   "pygments_lexer": "ipython3",
   "version": "3.9.7"
  }
 },
 "nbformat": 4,
 "nbformat_minor": 4
}
