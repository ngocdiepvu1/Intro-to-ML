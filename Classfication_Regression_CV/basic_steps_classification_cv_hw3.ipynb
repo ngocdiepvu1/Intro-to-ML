{
 "cells": [
  {
   "cell_type": "markdown",
   "metadata": {},
   "source": [
    "## The basic steps for a classification task using GridSearchCV"
   ]
  },
  {
   "cell_type": "markdown",
   "metadata": {},
   "source": [
    "### step-1:  load data and clean data ( handle missing values)"
   ]
  },
  {
   "cell_type": "code",
   "execution_count": 1,
   "metadata": {},
   "outputs": [],
   "source": [
    "#drop or interpolate using Pandas"
   ]
  },
  {
   "cell_type": "markdown",
   "metadata": {},
   "source": [
    "### step-2: preprocess data"
   ]
  },
  {
   "cell_type": "code",
   "execution_count": 2,
   "metadata": {},
   "outputs": [],
   "source": [
    "#normalization, reshape, etc"
   ]
  },
  {
   "cell_type": "markdown",
   "metadata": {},
   "source": [
    "Let's generate some random data, so we can discuss the next steps "
   ]
  },
  {
   "cell_type": "code",
   "execution_count": 3,
   "metadata": {},
   "outputs": [],
   "source": [
    "#random number generator\n",
    "import numpy as np\n",
    "rng=np.random.RandomState(0)"
   ]
  },
  {
   "cell_type": "code",
   "execution_count": 4,
   "metadata": {},
   "outputs": [],
   "source": [
    "num_samples=3000\n",
    "num_features=5\n",
    "num_classes=3"
   ]
  },
  {
   "cell_type": "code",
   "execution_count": 5,
   "metadata": {},
   "outputs": [],
   "source": [
    "X0=rng.rand(num_samples//3, num_features) #class-0: x in range of [0, 1]\n",
    "Y0=np.zeros(num_samples//3)\n",
    "X1=0.5+rng.rand(num_samples//3, num_features)  #class-1: x in range of [0.5, 1.5]\n",
    "Y1=np.ones(num_samples//3)\n",
    "X2=1+rng.rand(num_samples//3, num_features)  #class-2: x in range of [1, 2]\n",
    "Y2=2*np.ones(num_samples//3)\n",
    "X=np.concatenate([X0, X1, X2])\n",
    "Y=np.concatenate([Y0, Y1, Y2])"
   ]
  },
  {
   "cell_type": "code",
   "execution_count": 6,
   "metadata": {},
   "outputs": [
    {
     "name": "stdout",
     "output_type": "stream",
     "text": [
      "7.2449638492178e-05 0.9999640185426024\n",
      "0.5001503810808555 1.4999779517807228\n",
      "1.0001664413402684 1.9999620173413053\n"
     ]
    }
   ],
   "source": [
    "print(X0.min(), X0.max())\n",
    "print(X1.min(), X1.max())\n",
    "print(X2.min(), X2.max())"
   ]
  },
  {
   "cell_type": "code",
   "execution_count": 7,
   "metadata": {},
   "outputs": [
    {
     "data": {
      "text/plain": [
       "0.0"
      ]
     },
     "execution_count": 7,
     "metadata": {},
     "output_type": "execute_result"
    }
   ],
   "source": [
    "#usually, class label/index starts from 0\n",
    "Y.min()"
   ]
  },
  {
   "cell_type": "code",
   "execution_count": 8,
   "metadata": {},
   "outputs": [
    {
     "data": {
      "text/plain": [
       "2.0"
      ]
     },
     "execution_count": 8,
     "metadata": {},
     "output_type": "execute_result"
    }
   ],
   "source": [
    "Y.max()"
   ]
  },
  {
   "cell_type": "markdown",
   "metadata": {},
   "source": [
    "### step-3: train-validation-test split\n",
    "analogy <br>\n",
    "training set: homework <br>\n",
    "validation set: self-test  <br>\n",
    "test set:       final exam  <br>"
   ]
  },
  {
   "cell_type": "code",
   "execution_count": 9,
   "metadata": {},
   "outputs": [],
   "source": [
    "from sklearn.model_selection import train_test_split\n",
    "#split the data (X,Y) into a training set (X_train, Y_train) and a test set (X_test, Y_test)\n",
    "X_train, X_test, Y_train, Y_test = train_test_split(X, Y, test_size=0.2, random_state=0)"
   ]
  },
  {
   "cell_type": "code",
   "execution_count": 10,
   "metadata": {},
   "outputs": [
    {
     "data": {
      "text/plain": [
       "(2400, 5)"
      ]
     },
     "execution_count": 10,
     "metadata": {},
     "output_type": "execute_result"
    }
   ],
   "source": [
    "X_train.shape"
   ]
  },
  {
   "cell_type": "markdown",
   "metadata": {},
   "source": [
    "#### split the training set to a 'pure' training set (defined by train_idx) and a validation set  (defined by val_idx)"
   ]
  },
  {
   "cell_type": "code",
   "execution_count": 11,
   "metadata": {},
   "outputs": [],
   "source": [
    "N_train=int(0.9*X_train.shape[0]) # for 'pure' training"
   ]
  },
  {
   "cell_type": "code",
   "execution_count": 12,
   "metadata": {},
   "outputs": [],
   "source": [
    "#we only need the indexes and do not need the actual splitting\n",
    "idx_list=np.arange(0, X_train.shape[0])\n",
    "rng.shuffle(idx_list)\n",
    "train_idx=idx_list[0:N_train]\n",
    "val_idx=idx_list[N_train:]"
   ]
  },
  {
   "cell_type": "markdown",
   "metadata": {},
   "source": [
    "#### If there is class-imblance, then we can do\n",
    "(1) resampling the training dataset <br>\n",
    "        `train_idx=resample(train_idx[Y_train==k], n_samples=????) for class-k`        \n",
    "(2) using class-weight <br>\n",
    "        `class-weight='balanced'` if the classifier has a hyper-parameter named `class-weight` <br>\n",
    "We will use class-weight for random forest"
   ]
  },
  {
   "cell_type": "markdown",
   "metadata": {},
   "source": [
    "### step-4: choose a machine learning model"
   ]
  },
  {
   "cell_type": "code",
   "execution_count": 13,
   "metadata": {},
   "outputs": [],
   "source": [
    "from sklearn.ensemble import RandomForestClassifier\n",
    "# model =RandomForestClassifier(n_estimators=???)"
   ]
  },
  {
   "cell_type": "markdown",
   "metadata": {},
   "source": [
    "### step-5: find the optimal parameter(s) of the model using training-validation"
   ]
  },
  {
   "cell_type": "code",
   "execution_count": 14,
   "metadata": {},
   "outputs": [],
   "source": [
    "#create a list of possible values of the parameter n_estimators\n",
    "n_list=np.arange(1, 100, 5)"
   ]
  },
  {
   "cell_type": "code",
   "execution_count": 15,
   "metadata": {},
   "outputs": [],
   "source": [
    "#create a dictionary of model hyper-parameter(s)\n",
    "#in this example, the model has only one hyper-parameter: n_estimators\n",
    "param_grid = {'n_estimators':n_list}\n",
    "\n",
    "#in general, a model can have more than one hyper-parameter\n",
    "#for random forest, we may need\n",
    "#param_grid={'max_depth': list1,\n",
    "#            'min_samples_split': list2,\n",
    "#            'min_samples_leaf':list3,\n",
    "#            'max_features':list4,\n",
    "#            'max_samples':list5}\n",
    "# by default, 'n_estimators' is 100 (read the sklearn document)\n",
    "#additionaly, you may need\n",
    "#   param_grid['class_weight']='balanced' to handle class-imbalance"
   ]
  },
  {
   "cell_type": "code",
   "execution_count": 16,
   "metadata": {},
   "outputs": [],
   "source": [
    "from sklearn.metrics import confusion_matrix\n",
    "\n",
    "def weighted_accuracy(confusion):\n",
    "    #input: confusion is the confusion matrix\n",
    "    #output: acc is the weighted classification accuracy\n",
    "    M=confusion.copy().astype('float32')\n",
    "    for k in range(0, M.shape[0]):\n",
    "        M[k]/=M[k].sum()+1e-8    \n",
    "    acc = M.diagonal().sum()/M.sum()\n",
    "    return acc\n",
    "\n",
    "def my_scorer(model, X, Y_true):\n",
    "    Y_pred = model.predict(X)\n",
    "    confusion=confusion_matrix(Y_true, Y_pred)\n",
    "    acc=weighted_accuracy(confusion)\n",
    "    return acc"
   ]
  },
  {
   "cell_type": "code",
   "execution_count": 17,
   "metadata": {},
   "outputs": [],
   "source": [
    "from sklearn.model_selection import GridSearchCV\n",
    "gs = GridSearchCV(estimator=RandomForestClassifier(),\n",
    "                  param_grid=param_grid,\n",
    "                  #scoring='accuracy', # it will calculate standard accuracy for training and validation\n",
    "                  scoring=my_scorer,\n",
    "                  cv=[(train_idx, val_idx)])\n",
    "#set cv=[(train_idx, val_idx)], then it will only do train-validation once\n",
    "#set cv=5, then it will do 5-fold cross-validation"
   ]
  },
  {
   "cell_type": "markdown",
   "metadata": {},
   "source": [
    "`scoring` is 'accuracy': the best model has the highest classification accuracy <br>\n",
    "https://scikit-learn.org/stable/modules/model_evaluation.html#scoring-parameter"
   ]
  },
  {
   "cell_type": "code",
   "execution_count": 18,
   "metadata": {},
   "outputs": [
    {
     "data": {
      "text/plain": [
       "GridSearchCV(cv=[(array([1476,  163,  820, ..., 1685, 2105,  242]),\n",
       "                  array([ 975, 1318, 2085, 2026,  170, 1783, 2078, 1763, 1283,  450, 1152,\n",
       "       1095,  754, 1784, 1732, 1456,  293, 2316,  373, 1267, 1250, 2350,\n",
       "       1380,  787,  453, 1285,  324, 2399, 1971, 2235,  666, 2236, 1328,\n",
       "        122,  748,  290,  333,  247,  375,  218, 1058, 2320, 1253,  424,\n",
       "        781,  770, 1605, 1517, 1535,  794, 1881,   66, 1540, 1883,  225,\n",
       "       1848, 1660,  210, 1886, 1505, 1961, 1128,...\n",
       "       1917,   55,  714,  509, 1004, 1820, 1248, 1591,  951, 2021, 2227,\n",
       "        498, 1411, 1255, 1334, 2019,  664,  790, 1367, 1462, 1921, 1204,\n",
       "       1604, 2173, 1692,  838,  159, 1722,  752,  663, 2043, 1955, 1451,\n",
       "        241, 1145,  239, 1501, 2048,  492, 1160, 1137,  329]))],\n",
       "             estimator=RandomForestClassifier(),\n",
       "             param_grid={'n_estimators': array([ 1,  6, 11, 16, 21, 26, 31, 36, 41, 46, 51, 56, 61, 66, 71, 76, 81,\n",
       "       86, 91, 96])},\n",
       "             scoring=<function my_scorer at 0x00000233C3D778B8>)"
      ]
     },
     "execution_count": 18,
     "metadata": {},
     "output_type": "execute_result"
    }
   ],
   "source": [
    "# do training and validation\n",
    "gs.fit(X_train, Y_train) \n",
    "#here, (X_train, Y_train) contain the \"pure\" training data and the valiation data"
   ]
  },
  {
   "cell_type": "code",
   "execution_count": 19,
   "metadata": {},
   "outputs": [
    {
     "data": {
      "text/plain": [
       "{'mean_fit_time': array([0.00405669, 0.01413989, 0.0243535 , 0.03569889, 0.04670739,\n",
       "        0.05659461, 0.0677669 , 0.07630301, 0.08626986, 0.09862494,\n",
       "        0.10975814, 0.1191175 , 0.13117623, 0.14846301, 0.16426229,\n",
       "        0.15989923, 0.17165399, 0.18159795, 0.1910665 , 0.20403337]),\n",
       " 'std_fit_time': array([0., 0., 0., 0., 0., 0., 0., 0., 0., 0., 0., 0., 0., 0., 0., 0., 0.,\n",
       "        0., 0., 0.]),\n",
       " 'mean_score_time': array([0.00199652, 0.00216866, 0.00199533, 0.00196648, 0.00199461,\n",
       "        0.0029943 , 0.00302052, 0.00398922, 0.00399065, 0.00417542,\n",
       "        0.00501513, 0.00514674, 0.004987  , 0.00602603, 0.00598407,\n",
       "        0.00598407, 0.00616693, 0.00611067, 0.00712395, 0.00816965]),\n",
       " 'std_score_time': array([0., 0., 0., 0., 0., 0., 0., 0., 0., 0., 0., 0., 0., 0., 0., 0., 0.,\n",
       "        0., 0., 0.]),\n",
       " 'param_n_estimators': masked_array(data=[1, 6, 11, 16, 21, 26, 31, 36, 41, 46, 51, 56, 61, 66,\n",
       "                    71, 76, 81, 86, 91, 96],\n",
       "              mask=[False, False, False, False, False, False, False, False,\n",
       "                    False, False, False, False, False, False, False, False,\n",
       "                    False, False, False, False],\n",
       "        fill_value='?',\n",
       "             dtype=object),\n",
       " 'params': [{'n_estimators': 1},\n",
       "  {'n_estimators': 6},\n",
       "  {'n_estimators': 11},\n",
       "  {'n_estimators': 16},\n",
       "  {'n_estimators': 21},\n",
       "  {'n_estimators': 26},\n",
       "  {'n_estimators': 31},\n",
       "  {'n_estimators': 36},\n",
       "  {'n_estimators': 41},\n",
       "  {'n_estimators': 46},\n",
       "  {'n_estimators': 51},\n",
       "  {'n_estimators': 56},\n",
       "  {'n_estimators': 61},\n",
       "  {'n_estimators': 66},\n",
       "  {'n_estimators': 71},\n",
       "  {'n_estimators': 76},\n",
       "  {'n_estimators': 81},\n",
       "  {'n_estimators': 86},\n",
       "  {'n_estimators': 91},\n",
       "  {'n_estimators': 96}],\n",
       " 'split0_test_score': array([0.97098392, 0.96696788, 0.97113448, 0.97499996, 0.97515059,\n",
       "        0.97098392, 0.97098392, 0.97515059, 0.98348397, 0.97098392,\n",
       "        0.97098392, 0.97098392, 0.97098392, 0.97098392, 0.97098392,\n",
       "        0.97098392, 0.97098392, 0.97515059, 0.97515059, 0.97098392]),\n",
       " 'mean_test_score': array([0.97098392, 0.96696788, 0.97113448, 0.97499996, 0.97515059,\n",
       "        0.97098392, 0.97098392, 0.97515059, 0.98348397, 0.97098392,\n",
       "        0.97098392, 0.97098392, 0.97098392, 0.97098392, 0.97098392,\n",
       "        0.97098392, 0.97098392, 0.97515059, 0.97515059, 0.97098392]),\n",
       " 'std_test_score': array([0., 0., 0., 0., 0., 0., 0., 0., 0., 0., 0., 0., 0., 0., 0., 0., 0.,\n",
       "        0., 0., 0.]),\n",
       " 'rank_test_score': array([ 8, 20,  7,  6,  2,  8,  8,  2,  1,  8,  8,  8,  8,  8,  8,  8,  8,\n",
       "         2,  2,  8])}"
      ]
     },
     "execution_count": 19,
     "metadata": {},
     "output_type": "execute_result"
    }
   ],
   "source": [
    "gs.cv_results_"
   ]
  },
  {
   "cell_type": "code",
   "execution_count": 20,
   "metadata": {},
   "outputs": [
    {
     "data": {
      "text/plain": [
       "array([0.97098392, 0.96696788, 0.97113448, 0.97499996, 0.97515059,\n",
       "       0.97098392, 0.97098392, 0.97515059, 0.98348397, 0.97098392,\n",
       "       0.97098392, 0.97098392, 0.97098392, 0.97098392, 0.97098392,\n",
       "       0.97098392, 0.97098392, 0.97515059, 0.97515059, 0.97098392])"
      ]
     },
     "execution_count": 20,
     "metadata": {},
     "output_type": "execute_result"
    }
   ],
   "source": [
    "# accuracy on validation set\n",
    "acc_val_list=gs.cv_results_['mean_test_score']\n",
    "acc_val_list"
   ]
  },
  {
   "cell_type": "code",
   "execution_count": 21,
   "metadata": {},
   "outputs": [
    {
     "data": {
      "text/plain": [
       "Text(0, 0.5, 'accuracy')"
      ]
     },
     "execution_count": 21,
     "metadata": {},
     "output_type": "execute_result"
    },
    {
     "data": {
      "image/png": "[encoded data removed]",
      "text/plain": [
       "<Figure size 432x288 with 1 Axes>"
      ]
     },
     "metadata": {
      "needs_background": "light"
     },
     "output_type": "display_data"
    }
   ],
   "source": [
    "import matplotlib.pyplot as plt\n",
    "fig, ax = plt.subplots()\n",
    "ax.plot(n_list, acc_val_list)\n",
    "ax.set_title('val accuracy vs n')\n",
    "ax.set_xlabel('n')\n",
    "ax.set_ylabel('accuracy')"
   ]
  },
  {
   "cell_type": "code",
   "execution_count": 22,
   "metadata": {},
   "outputs": [
    {
     "data": {
      "text/plain": [
       "41"
      ]
     },
     "execution_count": 22,
     "metadata": {},
     "output_type": "execute_result"
    }
   ],
   "source": [
    "# the best parameter leads to the highest classification accuracy on the validation set\n",
    "n_best=n_list[np.argmax(acc_val_list)]\n",
    "n_best"
   ]
  },
  {
   "cell_type": "code",
   "execution_count": 23,
   "metadata": {},
   "outputs": [
    {
     "data": {
      "text/plain": [
       "{'n_estimators': 41}"
      ]
     },
     "execution_count": 23,
     "metadata": {},
     "output_type": "execute_result"
    }
   ],
   "source": [
    "#we can directly get the best parameter(s)\n",
    "gs.best_params_ \n"
   ]
  },
  {
   "cell_type": "code",
   "execution_count": 24,
   "metadata": {},
   "outputs": [
    {
     "data": {
      "text/plain": [
       "RandomForestClassifier(n_estimators=41)"
      ]
     },
     "execution_count": 24,
     "metadata": {},
     "output_type": "execute_result"
    }
   ],
   "source": [
    "#we could train the model again using the best parameter(s)\n",
    "#   model_best=RandomForestClassifier(n_estimators=n_best)\n",
    "#   model_best.fit(X_train, Y_train)\n",
    "#we can directly use gs.best_estimator_\n",
    "#it is the best model\n",
    "model_best=gs.best_estimator_\n",
    "model_best"
   ]
  },
  {
   "cell_type": "code",
   "execution_count": 25,
   "metadata": {},
   "outputs": [
    {
     "data": {
      "text/plain": [
       "1.0"
      ]
     },
     "execution_count": 25,
     "metadata": {},
     "output_type": "execute_result"
    }
   ],
   "source": [
    "#measure the classification accuracy on the training set\n",
    "acc_train=model_best.score(X_train, Y_train)\n",
    "acc_train"
   ]
  },
  {
   "cell_type": "markdown",
   "metadata": {},
   "source": [
    "### step-6: evaluate the model on the test set (the \"final exam\")"
   ]
  },
  {
   "cell_type": "code",
   "execution_count": 26,
   "metadata": {},
   "outputs": [
    {
     "data": {
      "text/plain": [
       "0.9783333333333334"
      ]
     },
     "execution_count": 26,
     "metadata": {},
     "output_type": "execute_result"
    }
   ],
   "source": [
    "#measure the classification accuracy on the test set\n",
    "acc_test=model_best.score(X_test, Y_test)\n",
    "acc_test"
   ]
  },
  {
   "cell_type": "code",
   "execution_count": 27,
   "metadata": {},
   "outputs": [
    {
     "data": {
      "text/plain": [
       "0.97671574"
      ]
     },
     "execution_count": 27,
     "metadata": {},
     "output_type": "execute_result"
    }
   ],
   "source": [
    "#if there is class-imbalance, we need to use weighted accuracy\n",
    "acc_test_weighted=my_scorer(model_best, X_test, Y_test)\n",
    "acc_test_weighted"
   ]
  },
  {
   "cell_type": "code",
   "execution_count": null,
   "metadata": {},
   "outputs": [],
   "source": []
  }
 ],
 "metadata": {
  "kernelspec": {
   "display_name": "Python 3 (ipykernel)",
   "language": "python",
   "name": "python3"
  },
  "language_info": {
   "codemirror_mode": {
    "name": "ipython",
    "version": 3
   },
   "file_extension": ".py",
   "mimetype": "text/x-python",
   "name": "python",
   "nbconvert_exporter": "python",
   "pygments_lexer": "ipython3",
   "version": "3.9.7"
  }
 },
 "nbformat": 4,
 "nbformat_minor": 4
}
